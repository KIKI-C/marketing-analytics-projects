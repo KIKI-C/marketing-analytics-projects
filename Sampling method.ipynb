{
 "cells": [
  {
   "cell_type": "markdown",
   "metadata": {},
   "source": [
    "# Assignment 1: Sampling\n",
    "The objective of this assignment is to build up your intuitions about sampling from a population (e.g., for taking surveys)."
   ]
  },
  {
   "cell_type": "code",
   "execution_count": 80,
   "metadata": {},
   "outputs": [
    {
     "data": {
      "text/html": [
       "<table>\n",
       "<thead><tr><th scope=col>hhid</th><th scope=col>foodexp</th><th scope=col>hhsize</th><th scope=col>income</th><th scope=col>edhead</th><th scope=col>agehead</th><th scope=col>foodexpcat</th><th scope=col>kidlt6</th><th scope=col>kid618</th><th scope=col>incomecat</th><th scope=col>ageheadcat</th></tr></thead>\n",
       "<tbody>\n",
       "\t<tr><td>402  </td><td>37.0 </td><td>3    </td><td>24000</td><td>4    </td><td>45   </td><td>3    </td><td>1    </td><td>1    </td><td>3    </td><td>4    </td></tr>\n",
       "\t<tr><td>343  </td><td>87.0 </td><td>5    </td><td>42000</td><td>3    </td><td>33   </td><td>6    </td><td>2    </td><td>1    </td><td>4    </td><td>2    </td></tr>\n",
       "\t<tr><td>316  </td><td>18.0 </td><td>3    </td><td> 7500</td><td>3    </td><td>27   </td><td>2    </td><td>2    </td><td>1    </td><td>1    </td><td>2    </td></tr>\n",
       "\t<tr><td> 82  </td><td>40.0 </td><td>3    </td><td>18000</td><td>1    </td><td>41   </td><td>3    </td><td>1    </td><td>1    </td><td>3    </td><td>3    </td></tr>\n",
       "\t<tr><td>325  </td><td>27.0 </td><td>3    </td><td>10500</td><td>3    </td><td>25   </td><td>2    </td><td>2    </td><td>1    </td><td>2    </td><td>2    </td></tr>\n",
       "\t<tr><td>167  </td><td>37.5 </td><td>3    </td><td>24000</td><td>2    </td><td>29   </td><td>3    </td><td>2    </td><td>1    </td><td>3    </td><td>2    </td></tr>\n",
       "</tbody>\n",
       "</table>\n"
      ],
      "text/latex": [
       "\\begin{tabular}{r|lllllllllll}\n",
       " hhid & foodexp & hhsize & income & edhead & agehead & foodexpcat & kidlt6 & kid618 & incomecat & ageheadcat\\\\\n",
       "\\hline\n",
       "\t 402   & 37.0  & 3     & 24000 & 4     & 45    & 3     & 1     & 1     & 3     & 4    \\\\\n",
       "\t 343   & 87.0  & 5     & 42000 & 3     & 33    & 6     & 2     & 1     & 4     & 2    \\\\\n",
       "\t 316   & 18.0  & 3     &  7500 & 3     & 27    & 2     & 2     & 1     & 1     & 2    \\\\\n",
       "\t  82   & 40.0  & 3     & 18000 & 1     & 41    & 3     & 1     & 1     & 3     & 3    \\\\\n",
       "\t 325   & 27.0  & 3     & 10500 & 3     & 25    & 2     & 2     & 1     & 2     & 2    \\\\\n",
       "\t 167   & 37.5  & 3     & 24000 & 2     & 29    & 3     & 2     & 1     & 3     & 2    \\\\\n",
       "\\end{tabular}\n"
      ],
      "text/markdown": [
       "\n",
       "| hhid | foodexp | hhsize | income | edhead | agehead | foodexpcat | kidlt6 | kid618 | incomecat | ageheadcat |\n",
       "|---|---|---|---|---|---|---|---|---|---|---|\n",
       "| 402   | 37.0  | 3     | 24000 | 4     | 45    | 3     | 1     | 1     | 3     | 4     |\n",
       "| 343   | 87.0  | 5     | 42000 | 3     | 33    | 6     | 2     | 1     | 4     | 2     |\n",
       "| 316   | 18.0  | 3     |  7500 | 3     | 27    | 2     | 2     | 1     | 1     | 2     |\n",
       "|  82   | 40.0  | 3     | 18000 | 1     | 41    | 3     | 1     | 1     | 3     | 3     |\n",
       "| 325   | 27.0  | 3     | 10500 | 3     | 25    | 2     | 2     | 1     | 2     | 2     |\n",
       "| 167   | 37.5  | 3     | 24000 | 2     | 29    | 3     | 2     | 1     | 3     | 2     |\n",
       "\n"
      ],
      "text/plain": [
       "  hhid foodexp hhsize income edhead agehead foodexpcat kidlt6 kid618 incomecat\n",
       "1 402  37.0    3      24000  4      45      3          1      1      3        \n",
       "2 343  87.0    5      42000  3      33      6          2      1      4        \n",
       "3 316  18.0    3       7500  3      27      2          2      1      1        \n",
       "4  82  40.0    3      18000  1      41      3          1      1      3        \n",
       "5 325  27.0    3      10500  3      25      2          2      1      2        \n",
       "6 167  37.5    3      24000  2      29      3          2      1      3        \n",
       "  ageheadcat\n",
       "1 4         \n",
       "2 2         \n",
       "3 2         \n",
       "4 3         \n",
       "5 2         \n",
       "6 2         "
      ]
     },
     "metadata": {},
     "output_type": "display_data"
    }
   ],
   "source": [
    "# Load the Milan data.\n",
    "data <- read.csv(\"/data/Assignment-1/Milan.csv\")\n",
    "\n",
    "# Print out the first few rows of the data.\n",
    "head(data)"
   ]
  },
  {
   "cell_type": "markdown",
   "metadata": {},
   "source": [
    "## True mean weekly food expenditure for the population"
   ]
  },
  {
   "cell_type": "markdown",
   "metadata": {},
   "source": [
    "**Task 1:** Compute the mean weekly food expenditure for the entire population of 500 people."
   ]
  },
  {
   "cell_type": "code",
   "execution_count": 81,
   "metadata": {},
   "outputs": [
    {
     "data": {
      "text/html": [
       "43.3004"
      ],
      "text/latex": [
       "43.3004"
      ],
      "text/markdown": [
       "43.3004"
      ],
      "text/plain": [
       "[1] 43.3004"
      ]
     },
     "metadata": {},
     "output_type": "display_data"
    }
   ],
   "source": [
    "true.mean.foodexp <- mean(data$foodexp)\n",
    "true.mean.foodexp"
   ]
  },
  {
   "cell_type": "markdown",
   "metadata": {},
   "source": [
    "## Single samples to estimate weekly food expenditure"
   ]
  },
  {
   "cell_type": "markdown",
   "metadata": {},
   "source": [
    "**Task 2:** Sample 25 families without replacement and compute the mean weekly food expenditure for that sample of families."
   ]
  },
  {
   "cell_type": "code",
   "execution_count": 82,
   "metadata": {},
   "outputs": [
    {
     "data": {
      "text/html": [
       "37.56"
      ],
      "text/latex": [
       "37.56"
      ],
      "text/markdown": [
       "37.56"
      ],
      "text/plain": [
       "[1] 37.56"
      ]
     },
     "metadata": {},
     "output_type": "display_data"
    }
   ],
   "source": [
    "sample.mean.25families <- mean(sample(data$foodexp,25))\n",
    "sample.mean.25families"
   ]
  },
  {
   "cell_type": "markdown",
   "metadata": {},
   "source": [
    "**Task 3:** Sample 100 families without replacement and compute the mean weekly food expenditure for that sample of families."
   ]
  },
  {
   "cell_type": "code",
   "execution_count": 83,
   "metadata": {},
   "outputs": [
    {
     "data": {
      "text/html": [
       "42.972"
      ],
      "text/latex": [
       "42.972"
      ],
      "text/markdown": [
       "42.972"
      ],
      "text/plain": [
       "[1] 42.972"
      ]
     },
     "metadata": {},
     "output_type": "display_data"
    }
   ],
   "source": [
    "sample.mean.100families <- mean(sample(data$foodexp,100))\n",
    "sample.mean.100families"
   ]
  },
  {
   "cell_type": "markdown",
   "metadata": {},
   "source": [
    "**Task 4:** Compute a stratified random sample with n=100, stratified on `kid618`. This means you will get a sample of 100 families where 50 families have kids ages 6-18 and 50 families do not; the stratum-specific means are then combined based on the number of families in each stratum. Note that there are multiple different ways to code this up! Do what works best for you."
   ]
  },
  {
   "cell_type": "code",
   "execution_count": 84,
   "metadata": {},
   "outputs": [
    {
     "data": {
      "text/html": [
       "45.98"
      ],
      "text/latex": [
       "45.98"
      ],
      "text/markdown": [
       "45.98"
      ],
      "text/plain": [
       "[1] 45.98"
      ]
     },
     "metadata": {},
     "output_type": "display_data"
    }
   ],
   "source": [
    "library(splitstackshape)\n",
    "sample.mean.stratified <- mean(stratified(data, group='kid618',size = 50)$foodexp)\n",
    "sample.mean.stratified"
   ]
  },
  {
   "cell_type": "markdown",
   "metadata": {},
   "source": [
    "**Understanding Checkpoint:** Compute the absolute value of the difference between the sample mean and the true mean (or the error) for each of the two samples.  Which one is smallest for these samples?  Does that make sense to you?  Try getting different samples (i.e., re-run the code for task 2, 3, and 4) and see if things change.  Which one of these values is *usually* smallest if you re-take the samples over and over? This is just to further your understanding."
   ]
  },
  {
   "cell_type": "code",
   "execution_count": 85,
   "metadata": {},
   "outputs": [
    {
     "data": {
      "text/html": [
       "5.7404"
      ],
      "text/latex": [
       "5.7404"
      ],
      "text/markdown": [
       "5.7404"
      ],
      "text/plain": [
       "[1] 5.7404"
      ]
     },
     "metadata": {},
     "output_type": "display_data"
    },
    {
     "data": {
      "text/html": [
       "0.328400000000002"
      ],
      "text/latex": [
       "0.328400000000002"
      ],
      "text/markdown": [
       "0.328400000000002"
      ],
      "text/plain": [
       "[1] 0.3284"
      ]
     },
     "metadata": {},
     "output_type": "display_data"
    },
    {
     "data": {
      "text/html": [
       "2.67959999999999"
      ],
      "text/latex": [
       "2.67959999999999"
      ],
      "text/markdown": [
       "2.67959999999999"
      ],
      "text/plain": [
       "[1] 2.6796"
      ]
     },
     "metadata": {},
     "output_type": "display_data"
    }
   ],
   "source": [
    "abs(sample.mean.25families - true.mean.foodexp)\n",
    "abs(sample.mean.100families - true.mean.foodexp)\n",
    "abs(sample.mean.stratified - true.mean.foodexp)"
   ]
  },
  {
   "cell_type": "markdown",
   "metadata": {},
   "source": [
    "**The absolute value of the difference between 100 family mean and true mean is the smallest.** This result makes sense to me \n",
    "because the sample size of 100 is the largest in 3 scenarios and this sample does not limit its randomness by stratifying on \n",
    "only one factor. "
   ]
  },
  {
   "cell_type": "markdown",
   "metadata": {},
   "source": [
    "## Repeated samples\n",
    "For each of the three sampling strategies we've used (task 2, 3 & 4), you'll repeat the samples M=1000 times (i.e., \"retake the survey\") and plot the results.  You'll  also compute the population standard deviation and the sample standard deviation to include in your assignment write-up.  I've defined two functions to help you with these tasks."
   ]
  },
  {
   "cell_type": "code",
   "execution_count": 86,
   "metadata": {},
   "outputs": [],
   "source": [
    "# Load the ggplot2 library for figures.\n",
    "library(ggplot2)\n",
    "\n",
    "# Define the number of times to repeat a sample.\n",
    "M <- 1000\n",
    "\n",
    "# This function helps compute the two standard deviations of interest.\n",
    "pop.and.sample.sd <- function(sampled.means) {\n",
    "    # Compute the population standard deviation of the estimated means from\n",
    "    # the true population mean.  You'll need to include this number in your\n",
    "    # write-up.\n",
    "    population.standard.deviation <- sqrt(sum((sampled.means$sample.mean - \n",
    "                                                 true.mean.foodexp)**2) / M)\n",
    "\n",
    "    # Compute the sample standard deviation of the estimated means from\n",
    "    # their average. You'll need to include this number in your write-up. \n",
    "    sample.standard.deviation <-\n",
    "      sqrt(sum((sampled.means$sample.mean - \n",
    "                  mean(sampled.means$sample.mean))**2) / \n",
    "             (nrow(sampled.means) - 1))\n",
    "\n",
    "    # Return the two standard deviations.\n",
    "    return(c(population.standard.deviation, sample.standard.deviation))\n",
    "}\n",
    "\n",
    "# This function generates the plots you will need for your write-up.\n",
    "# It may produce warnings about removing rows; this is alright.\n",
    "plot.sample <- function(sampled.means, title) {\n",
    "    # Plot the distribution of sampled means along with the true population\n",
    "    # mean as a red solid line and the empirical mean as a dashed line.\n",
    "    p <- ggplot(sampled.means, aes(x=sample.mean)) + \n",
    "      geom_histogram(binwidth = 1) +\n",
    "      xlim(20, 70) + xlab(\"mean weekly food expenditure\") + \n",
    "      ggtitle(title) +\n",
    "      geom_vline(xintercept = true.mean.foodexp, color=\"red\") +\n",
    "      geom_vline(xintercept = mean(sampled.means$sample.mean), \n",
    "                 linetype=\"dashed\") +\n",
    "      theme_bw() +\n",
    "      theme(plot.title = element_text(hjust = 0.5))\n",
    "\n",
    "    # Save the resulting image.   Include this plot in your write-up.\n",
    "    ggsave(filename, width=7, height=3)\n",
    "    \n",
    "    return(p)\n",
    "}"
   ]
  },
  {
   "cell_type": "markdown",
   "metadata": {},
   "source": [
    "### Small sample size\n",
    "**Task 5:** Sample n=25 families and compute the mean weekly food expenditure.  Repeat this M=1000 times. You will probably want to use some of your code from task 2."
   ]
  },
  {
   "cell_type": "code",
   "execution_count": 87,
   "metadata": {},
   "outputs": [],
   "source": [
    "sampled.means <- data.frame()\n",
    "for (i in seq(M)) {\n",
    "  # Draw a sample of families and compute mean food expenditure for \n",
    "  # that sample.\n",
    "  sample.mean <- mean(sample(data$foodexp,25))\n",
    "  \n",
    "  # Add the sample mean to the data frame of all sample means.\n",
    "  sampled.means <- rbind(sampled.means, \n",
    "                         data.frame(sample=i, sample.mean=sample.mean))\n",
    "}"
   ]
  },
  {
   "cell_type": "code",
   "execution_count": 88,
   "metadata": {},
   "outputs": [
    {
     "data": {
      "text/html": [
       "<ol class=list-inline>\n",
       "\t<li>4.12583124114402</li>\n",
       "\t<li>4.12685742564334</li>\n",
       "</ol>\n"
      ],
      "text/latex": [
       "\\begin{enumerate*}\n",
       "\\item 4.12583124114402\n",
       "\\item 4.12685742564334\n",
       "\\end{enumerate*}\n"
      ],
      "text/markdown": [
       "1. 4.12583124114402\n",
       "2. 4.12685742564334\n",
       "\n",
       "\n"
      ],
      "text/plain": [
       "[1] 4.125831 4.126857"
      ]
     },
     "metadata": {},
     "output_type": "display_data"
    }
   ],
   "source": [
    "# Print the two standard deviations (population s.d. and sample s.d.) to the console.\n",
    "pop.and.sample.sd(sampled.means)"
   ]
  },
  {
   "cell_type": "code",
   "execution_count": 89,
   "metadata": {},
   "outputs": [
    {
     "name": "stderr",
     "output_type": "stream",
     "text": [
      "Warning message:\n",
      "“Removed 2 rows containing missing values (geom_bar).”Warning message:\n",
      "“Removed 2 rows containing missing values (geom_bar).”"
     ]
    },
    {
     "data": {
      "image/png": "[encoded data removed]",
      "text/plain": [
       "plot without title"
      ]
     },
     "metadata": {},
     "output_type": "display_data"
    }
   ],
   "source": [
    "# Plot the distribution of samples.\n",
    "title <- 'distribution of small samples'\n",
    "filename <- 'image1.jpg'\n",
    "plot.sample(sampled.means,title)"
   ]
  },
  {
   "cell_type": "markdown",
   "metadata": {},
   "source": [
    "### Larger sample size\n",
    "**Task 6:** Sample n=100 families and compute the mean weekly food expenditure.  Repeat this M=1000 times. You will probably want to use some of your code from task 3."
   ]
  },
  {
   "cell_type": "code",
   "execution_count": 90,
   "metadata": {},
   "outputs": [],
   "source": [
    "sampled.means2 <- data.frame()\n",
    "for (i in seq(M)) {\n",
    "  # Draw a sample of families and compute mean food expenditure for \n",
    "  # that sample.\n",
    "  sample.mean <- mean(sample(data$foodexp,100))\n",
    "  \n",
    "  # Add the sample mean to the data frame of all sample means.\n",
    "  sampled.means2 <- rbind(sampled.means2, \n",
    "                         data.frame(sample=i, sample.mean=sample.mean))\n",
    "}"
   ]
  },
  {
   "cell_type": "code",
   "execution_count": 91,
   "metadata": {},
   "outputs": [
    {
     "data": {
      "text/html": [
       "<ol class=list-inline>\n",
       "\t<li>1.88503947364505</li>\n",
       "\t<li>1.88596241051562</li>\n",
       "</ol>\n"
      ],
      "text/latex": [
       "\\begin{enumerate*}\n",
       "\\item 1.88503947364505\n",
       "\\item 1.88596241051562\n",
       "\\end{enumerate*}\n"
      ],
      "text/markdown": [
       "1. 1.88503947364505\n",
       "2. 1.88596241051562\n",
       "\n",
       "\n"
      ],
      "text/plain": [
       "[1] 1.885039 1.885962"
      ]
     },
     "metadata": {},
     "output_type": "display_data"
    }
   ],
   "source": [
    "# Print the two standard deviations (population s.d. and sample s.d.) to the console.\n",
    "pop.and.sample.sd(sampled.means2)"
   ]
  },
  {
   "cell_type": "code",
   "execution_count": 92,
   "metadata": {},
   "outputs": [
    {
     "name": "stderr",
     "output_type": "stream",
     "text": [
      "Warning message:\n",
      "“Removed 2 rows containing missing values (geom_bar).”Warning message:\n",
      "“Removed 2 rows containing missing values (geom_bar).”"
     ]
    },
    {
     "data": {
      "image/png": "[encoded data removed]",
      "text/plain": [
       "plot without title"
      ]
     },
     "metadata": {},
     "output_type": "display_data"
    }
   ],
   "source": [
    "# Plot the distribution of samples.\n",
    "title <- 'distribution of large samples'\n",
    "filename <- 'image2.jpg'\n",
    "plot.sample(sampled.means2,title)"
   ]
  },
  {
   "cell_type": "markdown",
   "metadata": {},
   "source": [
    "### Stratified sample\n",
    "**Task 7:** Sample n=100 families stratified on kid618 and compute the mean weekly food expenditure.  Repeat this M=1000 times. You will probably want to use some of your code from task 4."
   ]
  },
  {
   "cell_type": "code",
   "execution_count": 95,
   "metadata": {},
   "outputs": [],
   "source": [
    "sampled.means3 <- data.frame()\n",
    "for (i in seq(M)) {\n",
    "  # Draw a sample of families and compute mean food expenditure for \n",
    "  # that sample.\n",
    "  sample.mean <- mean(stratified(data, group='kid618',size = 50)$foodexp)\n",
    "  \n",
    "  # Add the sample mean to the data frame of all sample means.\n",
    "  sampled.means3 <- rbind(sampled.means3, \n",
    "                         data.frame(sample=i, sample.mean=sample.mean))\n",
    "}"
   ]
  },
  {
   "cell_type": "code",
   "execution_count": 94,
   "metadata": {},
   "outputs": [
    {
     "data": {
      "text/html": [
       "<ol class=list-inline>\n",
       "\t<li>1.96203039094709</li>\n",
       "\t<li>1.79274556645416</li>\n",
       "</ol>\n"
      ],
      "text/latex": [
       "\\begin{enumerate*}\n",
       "\\item 1.96203039094709\n",
       "\\item 1.79274556645416\n",
       "\\end{enumerate*}\n"
      ],
      "text/markdown": [
       "1. 1.96203039094709\n",
       "2. 1.79274556645416\n",
       "\n",
       "\n"
      ],
      "text/plain": [
       "[1] 1.962030 1.792746"
      ]
     },
     "metadata": {},
     "output_type": "display_data"
    }
   ],
   "source": [
    "# Print the two standard deviations (population s.d. and sample s.d.) to the console.\n",
    "pop.and.sample.sd(sampled.means3)"
   ]
  },
  {
   "cell_type": "code",
   "execution_count": 96,
   "metadata": {},
   "outputs": [
    {
     "name": "stderr",
     "output_type": "stream",
     "text": [
      "Warning message:\n",
      "“Removed 2 rows containing missing values (geom_bar).”Warning message:\n",
      "“Removed 2 rows containing missing values (geom_bar).”"
     ]
    },
    {
     "data": {
      "image/png": "[encoded data removed]",
      "text/plain": [
       "plot without title"
      ]
     },
     "metadata": {},
     "output_type": "display_data"
    }
   ],
   "source": [
    "# Plot the distribution of samples.\n",
    "title <- 'distribution of stratified samples'\n",
    "filename <- 'image3.jpg'\n",
    "plot.sample(sampled.means3,title)"
   ]
  },
  {
   "cell_type": "code",
   "execution_count": null,
   "metadata": {},
   "outputs": [],
   "source": []
  }
 ],
 "metadata": {
  "kernelspec": {
   "display_name": "R",
   "language": "R",
   "name": "ir"
  },
  "language_info": {
   "codemirror_mode": "r",
   "file_extension": ".r",
   "mimetype": "text/x-r-source",
   "name": "R",
   "pygments_lexer": "r",
   "version": "3.6.1"
  }
 },
 "nbformat": 4,
 "nbformat_minor": 2
}
