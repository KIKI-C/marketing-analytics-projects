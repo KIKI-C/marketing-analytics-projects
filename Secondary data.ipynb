{
 "cells": [
  {
   "cell_type": "markdown",
   "metadata": {},
   "source": [
    "#  Secondary Data\n",
    "The objective is to experience with working with secondary data.  This notebook defaults to Python 3, as R is ill-suited to string manipulaiton, which is especially important for Task 6.  Some cells can be run in R, however, as shown in Task 5.\n"
   ]
  },
  {
   "cell_type": "markdown",
   "metadata": {},
   "source": [
    "## Filtering to find competitors\n",
    "Write a function `filter_products_raw` that takes one argument (`key_phrase`) and returns a list of strings; these strings should be all the lines in the `/data/Assignment-2/products.json` file which contain the specified key phrase."
   ]
  },
  {
   "cell_type": "code",
   "execution_count": 1,
   "metadata": {},
   "outputs": [],
   "source": [
    "import json\n",
    "import demjson\n",
    "f = open(\"/data/Assignment-2/products.json\",'r',encoding='UTF-8')\n",
    "search_list=f.readlines()"
   ]
  },
  {
   "cell_type": "code",
   "execution_count": 2,
   "metadata": {},
   "outputs": [],
   "source": [
    "def filter_products_raw(key_phrase):\n",
    "    resultlist=[]\n",
    "    with open('/data/Assignment-2/products.json', 'r') as reader:\n",
    "  # Read and print the entire file line by line\n",
    "        for line in reader:\n",
    "            line=str.lower(line)\n",
    "            if line.find(key_phrase) !=-1:\n",
    "                resultlist.append(line)\n",
    "        return resultlist\n",
    "        "
   ]
  },
  {
   "cell_type": "code",
   "execution_count": 14,
   "metadata": {},
   "outputs": [
    {
     "data": {
      "text/plain": [
       "['{\\'asin\\': \\'b001aaozhi\\', \\'categories\\': [[\\'electronics\\', \\'portable audio & video\\', \\'digital voice recorders\\']], \\'description\\': \\'from the manufacturercapture everythingthe pulse smartpen records audio and links it to what you write. missed something? tap on your notesno need to lug the laptopthe pulse smartpen automatically captures everything as you write and draw. transfer your notes to your computer, organize them, and even search for words within your notes. find what you want in seconds.share your notestransform your notes and audio into interactive movies. upload your creations online for everyone to see, hear and play.what you getthe pulse smartpen (1.3 ounces, anodized aluminum housing)1 gb of memory (actual user available memory will be less)livescribe desktop software (download)3-d recording headset100 sheet dot paper college-ruled notebookusb mobile charging cradlesmartpen case2 black fine point ink cartridgesdemo card and interactive stickersinteractive getting started guidewhat you needwindows xp&trade; 32-bit sp2 or higher, windows vista&trade; 32 or 64-bit operating system, or intel mac with mac os x 10.5.5 or newer600mhz cpu or higher300 mb minimum free disk spaceavailable usb portinternet connectionthe pulse smartpen works only with livescribe dot paper.warranty informationinternational limited warranty.livescribe warrants the pulse smartpen to be free from defects in materials and workmanship under normal use for a period of ninety (90) days from the date of original direct or retail purchase. this warranty is void if the product has been damaged by accident or unreasonable use, immersion in water, neglect, abuse, improper maintenance, or other causes not arising out of defects in workmanship or materials of the product. all warranty claims are subject to: (1) you notifying livescribe of the warranty claim within the warranty period, (2) livescribe verifying the existence of a defect in the product and (3) receipt of valid proof of your purchase and the date of your purchase. your exclusive remedy shall be, at livescribe\\\\\\'s option, to have it repaired or receive a replacement pulse smartpen. all shipping costs, both to livescribe and back to the user/owner must be prepaid by the user/owner. before returning the pulse smartpen, please contact the livescribe customer service department for instructions.in the event that a product under warranty is repaired or replaced, the replacement will be covered under the original warranty or for 30 days, whichever is longer. repair or replacement is your exclusive remedy, and livescribe&rsquo;s exclusive liability, under this warranty. the limited warranty set forth herein is the only warranty made to you and is provided in lieu of any other warranties (if any) created by any documentation or packaging. this limited warranty gives you specific legal rights.disclaimer of warranties.you expressly acknowledge and agree that use of the livescribe desktop software, pulse smartpen and other products and services is at your sole risk and that the entire risk as to satisfactory quality, performance, accuracy and effort is with you. except for the limited warranty set forth above and to the maximumextent permitted by applicable law, the livescribe desktop software, pulse smartpen, products and services are provided \"as is\", with all faults and without warranty of any kind, and livescribe and livescribe\\\\\\'s licensors (collectively referred to as \"livescribe\") hereby disclaim all other warranties and representations, either express, implied or statutory, including, but not limited to, the implied warranties of merchantability, of satisfactory quality, of fitness for a particular purpose, of accuracy, of quiet enjoyment, and non-infringement of third party rights. livescribe does not warrant against interference with your enjoyment of the livescribe desktop software, pulse smartpen, products or services, that the functions contained in the livescribe desktop software, pulse smartpen, products or services will meet your requirements, that the operation of the livescribe desktop software, pulse smartpen or services will be uninterrupted or error-free, or that defects in the livescribe desktop software, pulse smartpen or services will be corrected. no oral or written information or advice given by livescribe or any livescribe authorized representative shall create a warranty. should the livescribe desktop software, pulse smartpen, or services prove defective, you assume the entire cost of all necessary servicing, repair or correction.limitation of liability.to the extent not prohibited by law, in no event shall livescribe be liable for personal injury, or any incidental, special, indirect or consequential damages whatsoever, including, without limitation, damages for loss of profits, loss of data, business interruption or any other commercial damages or losses, arising out of or related to your use or inability to use the livescribe desktop software, pulse smartpen, or services, however caused, regardless of the theory of liability (contract, tort or otherwise) and even if livescribe has been advised of the possibility of such damages.in no event shall livescribe\\\\\\'s total liability to you for all damages (other than as may be required by applicable law in cases involving personal injury) exceed the amount of fifty dollars ($50.00). the foregoing limitations will apply even if the above stated remedy fails of its essential purpose.paper &amp; accessory productsthe warranty is 30 days. the customer would have to pay shipping both ways for defective product.customer support informationphone 1-877-scribe9 (1-877-727-4239): mon.-sun., 7am-7pm pstchat via www.livescribe.com/support: mon.-fri., 9am-5pm pstemail cs@livescribe.com: 7 days a weeksupport languagesat this time, livescribe only offers support in english.\\', \\'title\\': \\'livescribe 1 gb pulse smartpen (apa-00001)\\', \\'price\\': 289.99, \\'salesrank\\': {\\'electronics\\': 58838}, \\'imurl\\': \\'http://ecx.images-amazon.com/images/i/41n8dbsduhl._sy300_.jpg\\', \\'related\\': {\\'also_viewed\\': [\\'b00524dlz0\\', \\'b002djv83y\\', \\'b009fu2ayu\\', \\'b001aan4pw\\', \\'b00fg38l16\\', \\'b00fonjdz6\\', \\'b009pk2t00\\', \\'b002djtmsw\\', \\'1432740660\\', \\'b009fu2aw2\\', \\'b002m3ho0m\\', \\'b003to56f8\\', \\'b006wapm78\\', \\'b001aalj1i\\', \\'b00gmel0um\\', \\'b005kpuyva\\', \\'b002djtmr8\\', \\'b00gmel0ti\\', \\'b001aaozv4\\', \\'b00cekw8wm\\', \\'0972169504\\', \\'b00hetub54\\', \\'b00264gkxo\\', \\'b003to56fi\\'], \\'buy_after_viewing\\': [\\'b001aaozv4\\', \\'b001aalj1i\\', \\'b00524dlz0\\', \\'b003to56f8\\']}}\\n',\n",
       " '{\\'asin\\': \\'b001aan4pw\\', \\'categories\\': [[\\'electronics\\', \\'portable audio & video\\', \\'digital voice recorders\\']], \\'description\\': \\'from the manufacturercapture everythingthe pulse smartpen records audio and links it what you write. missed something? tap on your notes or drawings with the tip of your pulse smartpen to hear what was said while you were writing.no need to lug the laptopthe pulse smartpen automatically captures everything as you write and draw. transfer your notes to your computer, organize them, and even search for words within your notes. find what you want in seconds.share your notestransform your notes and audio into interactive movies. upload your creations online for everyone to see, hear and play.what you getthe pulse smartpen (1.3 ounces, anodized aluminum housing)2 gb of memory (actual user available memory will be less)livescribe desktop software (download)3-d recording headset100 sheet dot paper college-ruled notebookusb mobile charging cradlesmartpen case3 black fine point ink cartridges + 1 stylus cartridgedemo card and interactive stickersinteractive getting started guidewhat you needwindows xp&trade; 32-bit sp2 or higher, windows vista&trade; 32 or 64-bit operating system, or intel mac with mac os x 10.5.5 or newer600mhz cpu or higher300 mb minimum free disk spaceavailable usb portinternet connectionthe pulse smartpen works only with livescribe dot paper.warranty informationinternational limited warranty. livescribe warrants the pulse smartpen to be free from defects in materials and workmanship under normal use for a period of ninety (90) days from the date of original direct or retail purchase. this warranty is void if the product has been damaged by accident or unreasonable use, immersion in water, neglect, abuse, improper maintenance, or other causes not arising out of defects in workmanship or materials of the product. all warranty claims are subject to: (1) you notifying livescribe of the warranty claim within the warranty period, (2) livescribe verifying the existence of a defect in the product and (3) receipt of valid proof of your purchase and the date of your purchase. your exclusive remedy shall be, at livescribe\\\\\\'s option, to have it repaired or receive a replacement pulse smartpen. all shipping costs, both to livescribe and back to the user/owner must be prepaid by the user/owner. before returning the pulse smartpen, please contact the livescribe customer service department for instructions.in the event that a product under warranty is repaired or replaced, the replacement will be covered under the original warranty or for 30 days, whichever is longer. repair or replacement is your exclusive remedy, and livescribe&rsquo;s exclusive liability, under this warranty. the limited warranty set forth herein is the only warranty made to you and is provided in lieu of any other warranties (if any) created by any documentation or packaging. this limited warranty gives you specific legal rights.disclaimer of warranties.you expressly acknowledge and agree that use of the livescribe desktop software, pulse smartpen and other products and services is at your sole risk and that the entire risk as to satisfactory quality, performance, accuracy and effort is with you. except for the limited warranty set forth above and to the maximumextent permitted by applicable law, the livescribe desktop software, pulse smartpen, products and services are provided \"as is\", with all faults and without warranty of any kind, and livescribe and livescribe\\\\\\'s licensors (collectively referred to as \"livescribe\") hereby disclaim all other warranties and representations, either express, implied or statutory, including, but not limited to, the implied warranties of merchantability, of satisfactory quality, of fitness for a particular purpose, of accuracy, of quiet enjoyment, and non-infringement of third party rights. livescribe does not warrant against interference with your enjoyment of the livescribe desktop software, pulse smartpen, products or services, that the functions contained in the livescribe desktop software, pulse smartpen, products or services will meet your requirements, that the operation of the livescribe desktop software, pulse smartpen or services will be uninterrupted or error-free, or that defects in the livescribe desktop software, pulse smartpen or services will be corrected. no oral or written information or advice given by livescribe or any livescribe authorized representative shall create a warranty. should the livescribe desktop software, pulse smartpen, or services prove defective, you assume the entire cost of all necessary servicing, repair or correction.limitation of liability.to the extent not prohibited by law, in no event shall livescribe be liable for personal injury, or any incidental, special, indirect or consequential damages whatsoever, including, without limitation, damages for loss of profits, loss of data, business interruption or any other commercial damages or losses, arising out of or related to your use or inability to use the livescribe desktop software, pulse smartpen, or services, however caused, regardless of the theory of liability (contract, tort or otherwise) and even if livescribe has been advised of the possibility of such damages.in no event shall livescribe\\\\\\'s total liability to you for all damages (other than as may be required by applicable law in cases involving personal injury) exceed the amount of fifty dollars ($50.00). the foregoing limitations will apply even if the above stated remedy fails of its essential purpose.paper &amp; accessory productsthe warranty is 30 days. the customer would have to pay shipping both ways for defective product.customer support informationphone 1-877-scribe9 (1-877-727-4239): mon.-sun., 7am-7pm pstchat via www.livescribe.com/support: mon.-fri., 9am-5pm pstemail cs@livescribe.com: 7 days a weeksupport languagesat this time, livescribe only offers support in english.\\', \\'title\\': \\'livescribe 2gb pulse smartpen (apa-00002)\\', \\'price\\': 289.99, \\'salesrank\\': {\\'electronics\\': 49899}, \\'imurl\\': \\'http://ecx.images-amazon.com/images/i/41n8dbsduhl._sy300_.jpg\\', \\'related\\': {\\'also_bought\\': [\\'b001aaozv4\\', \\'b001aalj1i\\', \\'b001r4i74e\\', \\'b003to56f8\\', \\'b002m3ho0m\\', \\'b00524dlz0\\', \\'b002djtmsw\\'], \\'buy_after_viewing\\': [\\'b00524dlz0\\', \\'b001aaozv4\\', \\'b001aalj1i\\', \\'b009fu2ayu\\']}}\\n',\n",
       " \"{'asin': 'b001qr6fn2', 'description': 'pro pack bundle', 'title': 'livescribe apa00005 costco livescribe smartpen bundle', 'price': 117.57, 'imurl': 'http://ecx.images-amazon.com/images/i/51mmx602t7l._sx300_.jpg', 'related': {'also_viewed': ['b00524dlz0', 'b001aaozv4', 'b009pk2t00', 'b00fg38l16', 'b002djv83y', 'b002djtmsw', 'b009fu2ayu', 'b001aan4pw', 'b009fu2aw2'], 'buy_after_viewing': ['b00524dlz0', 'b001aaozv4', 'b001aalj1i', 'b002m3ho0m']}, 'categories': [['electronics', 'computers & accessories', 'cables & accessories', 'input devices', 'digital pens']]}\\n\",\n",
       " \"{'asin': 'b001r4kb3e', 'description': '', 'title': 'livescribe lined journals 5-6 for pulse smartpen (black)', 'price': 17.06, 'imurl': 'http://ecx.images-amazon.com/images/i/41lezjzjdkl._sx300_.jpg', 'related': {'also_bought': ['b001aalj2m', 'b001aaozv4', 'b002m3ho0m', 'b009fu2aw2', 'b00524dlz0', 'b003to56f8', 'b00264gkxo', 'b001aaozpu', 'b009fu2ayu', 'b001r4i74e', 'b009pk2t00', 'b003to56fi', 'b007jus330', 'b003to56ey', 'b004h0x3ye', 'b001aaoznw', 'b001aalj1i'], 'buy_after_viewing': ['b001aalj2m', 'b001aaozv4', 'b002m3ho0m', 'b00264gkxo']}, 'categories': [['electronics', 'computers & accessories', 'cables & accessories', 'input devices', 'digital pens']]}\\n\",\n",
       " \"{'asin': 'b001r4i758', 'related': {'also_bought': ['b001aaozv4', 'b00524dlz0', 'b001aalj1i', 'b009fu2ayu', 'b00gkinxtg', 'b007jus330', 'b002m3ho0m', 'b003to56ey', 'b003to56f8', 'b004h0x3ye', 'b00264gkxo', 'b00fonjdz6', 'b00fg38l16', 'b001aaoznw', 'b00gkinxuu', 'b009pk2t00', 'b00edvkeai', 'b003to56fi', 'b00fip6alu', 'b001aalj2m', 'b00fiotk04', 'b00edy7ara', 'b009fu2aw2', 'b009rxd2ni', 'b00hmd5p4y', 'b003rapakk', 'b004wkkrts', 'b002djtmr8', 'b00hmd8aby', 'b002djv83y', 'b001aaozpu', 'b002gyvtcg', 'b001aalj9u', 'b0050affwi', 'b00dqeb1v4', 'b00206wj42', 'b0010wr1c2', '8866137618', 'b001jz6p4a', '1609136004', 'b0010wjafi', 'b0025wef52', 'b00jix5ko6', 'b008np76fq', 'b000v9cq1q', 'b00expscbc', '1118671252', '0486469247', 'b003o2rxuq'], 'bought_together': ['b001aaozv4', 'b001aalj1i'], 'buy_after_viewing': ['b001aalj1i', 'b001aaozv4', 'b002m3ho0m', 'b00524dlz0']}, 'title': 'livescribe 8.5 x 11 3-subject notebook #3 (black)', 'price': 11.65, 'salesrank': {}, 'imurl': 'http://ecx.images-amazon.com/images/i/41ju7hk6ksl._sx300_.jpg', 'brand': 'livescribe', 'categories': [['electronics', 'computers & accessories', 'cables & accessories', 'input devices', 'digital pens']], 'description': 'college ruled 3 subject notebook (#3) for your pulse smartpen'}\\n\",\n",
       " \"{'asin': 'b001r4kb66', 'description': '', 'title': 'livescribe lined journals 7-8 for pulse smartpen (black)', 'price': 17.06, 'imurl': 'http://ecx.images-amazon.com/images/i/41lezjzjdkl._sx300_.jpg', 'related': {'also_bought': ['b001aalj2m', 'b001aaozv4', 'b001aaozpu', 'b009fu2aw2', 'b00524dlz0', 'b002m3ho0m', 'b001aalj1i', 'b004h0x3ye', 'b007jus330', 'b009pk2t00', 'b001r4i74e', 'b001aaoznw', 'b003to56f8'], 'buy_after_viewing': ['b001aalj2m', 'b001aaozv4', 'b002m3ho0m', 'b00524dlz0']}, 'categories': [['electronics', 'computers & accessories', 'cables & accessories', 'input devices', 'digital pens']]}\\n\",\n",
       " \"{'asin': 'b001r4o1lm', 'categories': [['electronics', 'computers & accessories', 'cables & accessories', 'input devices', 'digital pens']], 'description': 'college ruled 3 subject notebook (#4) for your pulse smartpen', 'title': 'livescribe 8.5 x 11 3-subject notebook #4 (orange)', 'price': 8.31, 'imurl': 'http://ecx.images-amazon.com/images/i/4185xkxe5dl._sx300_.jpg', 'brand': 'livescribe', 'related': {'also_bought': ['b001aaozv4', 'b00524dlz0', 'b001aalj1i', 'b009fu2ayu', 'b00gkinxtg', 'b007jus330', 'b002m3ho0m', 'b003to56ey', 'b003to56f8', 'b004h0x3ye', 'b00264gkxo', 'b00fonjdz6', 'b00fg38l16', 'b001aaoznw', 'b00gkinxuu', 'b009pk2t00', 'b00edvkeai', 'b003to56fi', 'b00fip6alu', 'b001aalj2m', 'b00fiotk04', 'b00edy7ara', 'b009fu2aw2', 'b009rxd2ni', 'b00hmd5p4y', 'b003rapakk', 'b004wkkrts', 'b002djtmr8', 'b00hmd8aby', 'b002djv83y', 'b001aaozpu', 'b002gyvtcg', 'b001aalj9u', 'b0050affwi', 'b00dqeb1v4', 'b00206wj42', 'b0010wr1c2', '8866137618', 'b001jz6p4a', '1609136004', 'b0010wjafi', 'b0025wef52', 'b00jix5ko6', 'b008np76fq', 'b000v9cq1q', 'b00expscbc', '1118671252', '0486469247', 'b003o2rxuq'], 'bought_together': ['b001aaozv4', 'b001aalj1i'], 'buy_after_viewing': ['b001aalj1i', 'b001aaozv4', 'b002m3ho0m', 'b00524dlz0']}}\\n\",\n",
       " '{\\'asin\\': \\'b002djtmsw\\', \\'description\\': \"the livescribe 4 gb pulse smartpen makes it easy to take notes without lugging your laptop around. with the ability to record everything you hear, say, and write, this handy tool links your audio recordings to your notes to help you retain and organize important information. and it\\'s easy to use--to replay the recorded audio, simply tap directly on your notes.\", \\'title\\': \\'livescribe 4 gb pulse smartpen\\', \\'price\\': 117.57, \\'imurl\\': \\'http://ecx.images-amazon.com/images/i/31phog-zgxl._sy300_.jpg\\', \\'related\\': {\\'also_bought\\': [\\'b001aaozv4\\', \\'b001aalj1i\\', \\'b002m3ho0m\\', \\'b003to56f8\\', \\'b00524dlz0\\', \\'b001r4i74e\\', \\'b001aalj2m\\', \\'b001aan4pw\\', \\'b002djv83y\\'], \\'buy_after_viewing\\': [\\'b00524dlz0\\', \\'b001aaozv4\\', \\'b001aalj1i\\', \\'b002m3ho0m\\']}, \\'categories\\': [[\\'electronics\\', \\'computers & accessories\\', \\'cables & accessories\\', \\'input devices\\', \\'digital pens\\']]}\\n',\n",
       " \"{'asin': 'b002djv83y', 'categories': [['electronics', 'computers & accessories', 'cables & accessories', 'input devices', 'digital pens']], 'description': '', 'title': 'livescribe 2 gb pulse smartpen', 'price': 289.99, 'imurl': 'http://ecx.images-amazon.com/images/i/313sqsmzrbl._sy300_.jpg', 'brand': 'livescribe', 'related': {'also_bought': ['b001aalj1i', 'b001aaozv4', 'b001r4i74e', 'b003to56f8', 'b002m3ho0m', 'b001aalj2m', 'b003to56ey', 'b001aaoznw', 'b002djtmsw'], 'bought_together': ['b001aalj1i', 'b001aaozv4'], 'buy_after_viewing': ['b00524dlz0', 'b001aaozv4', 'b001aalj1i', 'b009fu2ayu']}}\\n\",\n",
       " '{\\'asin\\': \\'b0039mzbfk\\', \\'description\\': \"sometimes when you\\'re taking notes, it can be hard for your pen to keep up with the person speaking. the pulse smartpen helps eliminate that worry by recording audio and linking it to what you write so you don\\'t miss a word of any important meeting or class. the instant replay function lets you tap the pen on your notes to play back the last words said, and the smartpen\\'s 4gb memory holds more than 400 hours of audio. when your meeting or class is over, the smartpen makes it simple to transfer handwritten notes to your computer for easy access and organization.\\\\n\\\\nthis pro-pack comes with all the essentials you need to get started using the pulse smartpen. in addition to the 4gb black pulse smartpen, the set includes a 3d recording headset for more precise recording or private listening, a usb/ac charging cradle for charging or syncing the smartpen, a leather case for convenient portability and transcription software that helps you convert your handwritten notes into digital text. you\\'ll also receive a starter dot paper notebook, one ink cartridge refill and 500mb of online storage.\", \\'title\\': \\'livescribe pulse smartpen 4gb pro-pack (black)\\', \\'price\\': 117.57, \\'imurl\\': \\'http://ecx.images-amazon.com/images/i/419m-ropaol._sx300_.jpg\\', \\'related\\': {\\'also_viewed\\': [\\'b00524dlz0\\', \\'b001aaozv4\\', \\'b001aalj1i\\', \\'b003to56ey\\', \\'b00fonjdz6\\', \\'b009pk2t00\\', \\'b003rapakk\\', \\'b009fu2aw2\\', \\'b009fu2ayu\\', \\'b002djtmr8\\', \\'b00fg38l16\\', \\'b003to56fi\\', \\'b001aalj2m\\', \\'b003to56f8\\', \\'b002djv83y\\', \\'b001r4i74e\\', \\'b002djtmsw\\', \\'b001aan4pw\\', \\'b002m3ho0m\\', \\'b003unl14s\\', \\'b008kml220\\', \\'b001aaoznw\\', \\'b00efn1ch8\\'], \\'buy_after_viewing\\': [\\'b00524dlz0\\', \\'b002m3ho0m\\', \\'b001aaozv4\\', \\'b001aalj1i\\']}, \\'categories\\': [[\\'electronics\\', \\'computers & accessories\\', \\'cables & accessories\\', \\'input devices\\', \\'touch pads\\']]}\\n',\n",
       " \"{'asin': 'b003rae19q', 'categories': [['electronics', 'computers & accessories', 'cables & accessories', 'input devices', 'digital pens']], 'description': '', 'title': 'livescribe 4 gb echo smartpen', 'price': 4.47, 'salesrank': {}, 'imurl': 'http://ecx.images-amazon.com/images/i/31zak5ouvtl._sy300_.jpg', 'related': {'also_bought': ['b001aalj1i', 'b001aaozv4', 'b002m3ho0m', 'b003to56f8', 'b007jus330', 'b001r4i74e', 'b003to56ey', 'b001aalj2m', 'b001aaoznw', 'b00fiotk04', 'b00edvkeai', 'b00fip6alu', 'b00edy7ara', 'b003to56fi', 'b004h0x3ye', 'b001aaozpu', 'b00264gkxo', 'b009rxd2ni', 'b00fg38l16', 'b00206wj42', 'b00gkinxtg', 'b00fonjdz6', 'b008np76fq', 'b004wkkrts', 'b00gkinxuu', 'b00ip93pv4', 'b008mr36fe', 'b003iwrr3a', 'b001cjrm36', 'b008dbf5z8', '1118671252', 'b000fpgp4u', 'b00hfw1e6k', 'b007kb0egc', 'b009jz09pi', 'b006zw4hy2', 'b00005ml7q', 'b00488yv4q', 'b009w9bqmq', 'b00e8cigca', 'b00g256g3c', 'b000mypppe', 'b006jh8t3s', 'b00eoe4g4e', 'b00931k1qk', '1451698852', 'b00ecdm78e', 'b00be5t2ta', 'b008a0cyvk', 'b00bwhixmm', 'b00g1png54'], 'buy_after_viewing': ['b001aaozv4', 'b001aalj1i', 'b002m3ho0m', 'b00fonjdz6']}}\\n\",\n",
       " \"{'asin': 'b003rapakk', 'description': '', 'title': 'livescribe 8 gb echo smartpen', 'price': 349.99, 'imurl': 'http://ecx.images-amazon.com/images/i/41hasvdsm7l._sy300_.jpg', 'related': {'also_bought': ['b001aaozv4', 'b001aalj1i', 'b002m3ho0m', 'b007jus330', 'b003to56ey', 'b003to56fi', 'b001r4i74e', 'b003to56f8', 'b001aalj2m', 'b001aaoznw', 'b00264gkxo', 'b009rxd2ni', 'b004h0x3ye', 'b001aaozpu', 'b00edvkeai', 'b00524dlz0', 'b00edy7ara', 'b009pk2t00', 'b005a0b6ks', 'b00fiotk04', 'b001aalj9u', 'b009fu2aw2', 'b00fip6alu', 'b00fg38l16', 'b00gkinxtg', 'b003unl14s', 'b00345xp7i', 'b009fu2ayu', 'b002djtmr8', 'b008np76fq', 'b002gwh6ma', 'b005hm1xa2'], 'bought_together': ['b001aaozv4', 'b001aalj1i'], 'buy_after_viewing': ['b00524dlz0', 'b001aaozv4', 'b001aalj1i', 'b009pk2t00']}, 'categories': [['electronics', 'computers & accessories', 'cables & accessories', 'input devices', 'digital pens']]}\\n\",\n",
       " \"{'asin': 'b003to56fi', 'related': {'also_bought': ['b001aaozv4', 'b001aalj1i', 'b00264gkxo', 'b001aalj2m', 'b002m3ho0m', 'b00524dlz0', 'b004h0x3ye', 'b007jus330', 'b003to56f8', 'b009pk2t00', 'b001r4i74e', 'b003to56ey', 'b009fu2aw2', 'b009fu2ayu', 'b003rapakk', 'b001aaoznw', 'b00gkinxtg', 'b00fonjdz6', 'b00fg38l16', 'b00edvkeai', 'b004wkkrts', 'b001aaozpu', 'b00fiotk04', 'b009rxd2ni', 'b00fip6alu', 'b00gkinxuu', 'b005a0b6ks', 'b002djtmr8', 'b0050affwi', 'b00edy7ara', 'b001aalj9u', 'b00hmd8aby', 'b002gyvtcg', 'b004mf1e7m', 'b00dqeb1v4', 'b003unl14s', 'b00hmd5p4y', '8866132969', 'b00hx46xqg', 'b000xlzojs', 'b000lz3e2k', '1118107381', 'b008kml220', '1118206134', 'b00931i08g', 'b001t82tx8', '0743235479', 'b002vpe1qg', 'b001d79a96', '0691037388'], 'bought_together': ['b001aaozv4', 'b001aalj1i'], 'buy_after_viewing': ['b001aaozv4', 'b001aalj1i', 'b003to56f8', 'b002m3ho0m']}, 'title': 'livescribe universal premium case', 'price': 19.5, 'salesrank': {'cell phones & accessories': 30374}, 'imurl': 'http://ecx.images-amazon.com/images/i/31ywyglj4ul._sy300_.jpg', 'brand': 'livescribe', 'categories': [['electronics', 'computers & accessories', 'cables & accessories', 'input devices', 'digital pens']], 'description': 'keep your smartpen safe and protected from nicks and scratches with this premium leather case. the universal case features a protective flap that opens easily and contains a hidden magnet to secure your livescribe smartpen. a detachable clip helps keep your smartpen attached to your bag, shirt, or dot paper notebook. fits both echo and pulse smartpens.'}\\n\",\n",
       " \"{'asin': 'b003to56f8', 'related': {'also_bought': ['b002m3ho0m', 'b001aaozv4', 'b00524dlz0', 'b009fu2ayu', 'b001aalj1i', 'b00fg38l16', 'b00264gkxo', 'b004h0x3ye', 'b00gkinxtg', 'b007jus330', 'b001aalj2m', 'b009fu2aw2', 'b00gkinxuu', 'b00fonjdz6', 'b003to56ey', 'b001r4i74e', 'b00edvkeai', 'b003to56fi', 'b004wkkrts', 'b00edy7ara', 'b00fiotk04', 'b009rxd2ni', 'b001aaoznw', 'b00hmd8aby', 'b009pk2t00', 'b003rapakk', 'b001aaozpu', 'b00fip6alu', 'b002djtmr8', 'b00hmd5p4y', 'b002gyvtcg', 'b0010wr1c2', 'b00bbhlq36', 'b002djv83y', 'b00dqeb1v4', 'b001aalj9u', '8867323938', 'b00jq6ya6o', 'b00gjl1p44', 'b00ao1l1rg', 'b0000aqoe3', 'b00bqhd4b8', 'b00261baak', 'b00hnlqq7k', 'b00gtgetfg', 'b00dvh62j2', 'b002vpe1qg', 'b000g7yw7y'], 'bought_together': ['b002m3ho0m', 'b001aaozv4'], 'buy_after_viewing': ['b002m3ho0m', 'b001aalj1i', 'b001aaozv4', 'b001aalj2m']}, 'title': 'livescribe smartpen portfolio', 'price': 25.49, 'salesrank': {}, 'imurl': 'http://ecx.images-amazon.com/images/i/41eqdch1zol._sx300_.jpg', 'brand': 'livescribe', 'categories': [['electronics', 'computers & accessories', 'touch screen tablet accessories', 'cases & sleeves', 'cases']], 'description': 'the all-in-one solution for professionals on the go, the smartpen portfolio offers an elegant way to carry your livescribe smartpen and paper. inside the portfolio features include a smooth mircosuede interior finish, an elastic band to secure your smartpen, convenient card pockets, and a ribbon bookmark. accommodates an a5 notebook or hardbound journal, and works with all echo or pulse smartpens.'}\\n\",\n",
       " \"{'asin': 'b003unl14s', 'description': 'capture everything: the echo smartpen records audio and links it what you write. missed something tap on your notes or drawings with the tip of your pulse smartpen to hear what was said while you were writing.no need to lug the laptopthe echo smartpen automatically captures everything as you write and draw. transfer your notes to your computer, organize them, and even search for words within your notes. find what you want in seconds.share your notestransform your notes and audio into interactive movies. upload your creations online for everyone to see, hear and play.what you get. the echo smartpen. 8 gb of memory (actual user available memory will be less). livescribe desktop software (download). 50 sheet dot paper lined notebook. micro usb cable. 2 pen caps. black fine point ink cartridge refill. interactive getting started guide. tips & tricks guidewhat you need. windows xp 32-bit sp2 or higher, windows vista 32 or 64-bit operating system, or intel mac with mac os x 10.5.5 or newer. 600mhz cpu or higher. 300 mb minimum free disk space. available usb port. internet connectionthe echo smartpen works only with livescribe dot paper.', 'title': 'livescribe apx-00006 8gb echo smartpen efigs voice recorder', 'price': 199.63, 'imurl': 'http://ecx.images-amazon.com/images/i/310kjb2jepl._sy300_.jpg', 'related': {'also_bought': ['b001aaozv4', 'b001aalj1i', 'b002m3ho0m', 'b003to56ey', 'b003to56f8', 'b007jus330', 'b001aalj2m', 'b001r4i74e', 'b00524dlz0', 'b003to56fi', 'b001aaoznw', 'b009pk2t00', 'b004h0x3ye', 'b003rapakk', 'b004mf1e7m', 'b00br0rjb0'], 'buy_after_viewing': ['b00524dlz0', 'b001aaozv4', 'b001aalj1i', 'b009pk2t00']}, 'categories': [['electronics', 'computers & accessories', 'cables & accessories', 'input devices', 'digital pens']]}\\n\",\n",
       " '{\\'asin\\': \\'b004mf1e7m\\', \\'description\\': \"the american heritage(r) english dictionary, fourth edition at your fingertips. this easy-to-use dictionary contains thousands of english word definitions and pronunciations. simply write the english word to see the definition on the smartpen\\'s oled display. hear pronunciations, learn synonyms, regional notes, etymologies, and much more.\", \\'title\\': \\'livescribe english dictionary smartpen application (pap-00003-amz)\\', \\'price\\': 4.47, \\'imurl\\': \\'http://ecx.images-amazon.com/images/i/41cl2noi0ll._sy300_.jpg\\', \\'related\\': {\\'also_bought\\': [\\'b001aaozv4\\', \\'b001aalj1i\\', \\'b002m3ho0m\\', \\'b001r4i74e\\', \\'b005a0b6ks\\', \\'b00264gkxo\\', \\'b00524dlz0\\', \\'b003to56f8\\', \\'b003to56ey\\', \\'b004h0x3ye\\', \\'b001aaoznw\\', \\'b009pk2t00\\', \\'b001aalj2m\\', \\'b003to56fi\\', \\'b007jus330\\', \\'b009fu2aw2\\', \\'b001aalj9u\\', \\'b003unl14s\\'], \\'buy_after_viewing\\': [\\'b001aaozv4\\', \\'b002m3ho0m\\', \\'b001aalj1i\\', \\'b001r4i74e\\']}, \\'categories\\': [[\\'electronics\\', \\'computers & accessories\\', \\'cables & accessories\\', \\'input devices\\', \\'digital pens\\']]}\\n',\n",
       " \"{'asin': 'b0050affwi', 'description': '', 'title': 'livescribe 2 gb echo smartpen starter pack (apa-00009)', 'price': 132.13, 'imurl': 'http://ecx.images-amazon.com/images/i/315a4hrstnl._sy300_.jpg', 'related': {'buy_after_viewing': ['b00524dlz0', 'b001aalj1i', 'b001aaozv4', 'b002m3ho0m']}, 'categories': [['electronics', 'computers & accessories', 'cables & accessories', 'input devices', 'digital pens']]}\\n\",\n",
       " \"{'asin': 'b0053uemho', 'description': 'what you get in the bundle :* livescribe 4gb echo smartpen* livescribe single subject spiral notebook ana-00017, 4-pack, nos. 1-4* livescribe ara-000007 4 medium blue and 1 fine red ink cartridge* the echo smartpen with 4gb of memory* livescribe connect premium: includes connect basic (facebook, evernote, mylivescribe, your mobile device, and your computer)* plus additional connectors for email and google docs* livescribe desktop software for mac or windows (download)* 500 mb of personal online storage* starter dot paper notebook* micro usb cable* interactive getting started guide* smartpen tips and tricks* 2 smartpen caps* 2 ink cartridges', 'title': 'livescribe 4gb echo smartpen golden package', 'price': 4.47, 'imurl': 'http://ecx.images-amazon.com/images/i/51yojqsf-pl._sx300_.jpg', 'related': {'also_bought': ['b003to56ey'], 'buy_after_viewing': ['b001aaozv4', 'b001aalj1i', 'b00524dlz0', 'b001r4i74e']}, 'categories': [['electronics', 'computers & accessories', 'cables & accessories', 'input devices', 'digital pens']]}\\n\",\n",
       " \"{'asin': 'b0055uijhg', 'description': 'what you get in the bundle :* livescribe 8 gb echo smartpen* livescribe a5 single grid notebooks 4pk* livescribe ara-000007 4 medium blue and 1 fine red ink cartridge* the echo smartpen with 8gb of memory* livescribe connect premium: includes connect basic (facebook, evernote, mylivescribe, your mobile device, and your computer)* plus additional connectors for email and google docs* livescribe desktop software for mac or windows (download)* 500 mb of personal online storage* starter dot paper notebook* micro usb cable* interactive getting started guide* smartpen tips and tricks* 2 smartpen caps* 2 ink cartridges', 'title': 'livescribe 8 gb echo smartpen ultra premium kit', 'price': 4.47, 'imurl': 'http://ecx.images-amazon.com/images/i/41iypzylksl._sx300_.jpg', 'related': {'also_bought': ['b001aaozv4', 'b003to56f8', 'b001aalj1i', 'b003to56ey', 'b002m3ho0m'], 'buy_after_viewing': ['b001aaozv4', 'b00524dlz0', 'b001aalj1i', 'b003rapakk']}, 'categories': [['electronics', 'computers & accessories', 'cables & accessories', 'input devices', 'digital pens']]}\\n\",\n",
       " \"{'asin': 'b005a0b6ks', 'description': 'use your echo smartpen as a mouse and turn your dot paper notebooks into an extension of your screen. once connected to your computer via a micro-usb cable, echo can be used to mark up slides, presentations, pdfs, documents, and spreadsheets quickly and easily.', 'title': 'livescribe paper tablet smartpen application (pap-00004-amz)', 'price': 4.47, 'imurl': 'http://ecx.images-amazon.com/images/i/51umcvob0-l._sy300_.jpg', 'related': {'also_bought': ['b001aaozv4', 'b004h0x3ye', 'b002m3ho0m', 'b003to56ey', 'b00264gkxo', 'b001aalj1i', 'b001r4i74e', 'b003to56f8', 'b00524dlz0', 'b007jus330', 'b001aalj2m', 'b003to56fi', 'b009pk2t00', 'b001aaoznw', 'b004mf1e7m', 'b009fu2aw2', 'b003rapakk', 'b009rxd2ni', 'b001aalj9u', 'b002djtmr8', 'b009fu2ayu', 'b00fg38l16', 'b00edvkeai', 'b001aaozpu'], 'buy_after_viewing': ['b001aaozv4', 'b001aalj1i', 'b002m3ho0m', 'b00524dlz0']}, 'categories': [['electronics', 'computers & accessories', 'cables & accessories', 'input devices', 'digital pens']]}\\n\",\n",
       " \"{'asin': 'b007jus330', 'categories': [['electronics', 'accessories & supplies', 'audio & video accessories', 'headphones']], 'description': 'the livescribe echo 3-d recording headset is designed for the echo smartpen. the light-weight earbuds feature embedded microphones, which can record in high quality stereo audio. ideal for lecture halls, seminars, meetings and conferences. it can precisely record everything around you in 360&#xb0; binaural audio, then listen to your recordings in private. located in oakland, california, livescribe has developed a new low-cost mobile computing platform that enhances productivity, learning, communication and self-expression for anyone that uses pen and paper. the echo and pulse smartpens revolutionize the act of writing by recording and linking audio to handwriting, so users never miss a word.', 'title': 'livescribe sky/echo 3d recording headset', 'price': 19.59, 'imurl': 'http://ecx.images-amazon.com/images/i/41adhkug91l._sy300_.jpg', 'brand': 'livescribe', 'related': {'also_bought': ['b001aaozv4', 'b003to56ey', 'b001aalj1i', 'b00524dlz0', 'b002m3ho0m', 'b003to56f8', 'b009pk2t00', 'b001r4i74e', 'b001aaoznw', 'b003to56fi', 'b004h0x3ye', 'b009fu2ayu', 'b00264gkxo', 'b009fu2aw2', 'b00edvkeai', 'b009rxd2ni', 'b001aalj2m', 'b003rapakk', 'b00edy7ara', 'b00fip6alu', 'b00fiotk04', 'b001aaozpu', 'b002djtmr8', 'b00fg38l16', 'b00fonjdz6', 'b00gkinxtg', 'b005a0b6ks', 'b004wkkrts', 'b00gkinxuu', 'b00hmd5p4y', 'b0050affwi', 'b003unl14s', 'b008np76fq', 'b003jlunmc', 'b00efmxcrm', 'b00345xp7i', 'b001aalj9u', 'b00hmd8aby', 'b00206wj42', 'b007w7tv6s', 'b008np76aq', 'b009rxd1zm', '1118671252', 'b00dqeb1v4', 'b002gyvtcg', 'b00e8cigca', '8866137618', 'b009spue72', 'b007cm0bhg', 'b00005ml7q', 'b00ao1l1rg'], 'bought_together': ['b001aaozv4', 'b001aalj1i'], 'buy_after_viewing': ['b001aaozv4', 'b001aalj1i', 'b00524dlz0', 'b002m3ho0m']}}\\n\",\n",
       " \"{'asin': 'b008ysguv8', 'description': 'the sharon ipad 3 ipad 2 case with integrated keyboard (english layout) is the perfect accessory for your ipad when you are on the move.our ipad 3 ipad 2 keyboard case combines 3 features in 1: it comes with a ipad keyboard and stand for efficient working and offers a reliable and stylish display protection during transport. thanks to the built-in magnet, the case can be easily attached to any ipad. the ipad will look just like a laptop and whenever you close the cover it will automatically be turned off. you will love the look of it.all product advantages at once glance:- 3 in 1: ipad 3 ipad 2 keyboard, stand and protection during transport- smart cover function- bluetooth 3.0- english keyboard layout- modern design- easy installation- practical charging status and bluetooth connection led indicator lightcompatibility:- ipad 3, ipad 2- iphone 3g, iphone 3gs, iphone 4, iphone 4s, iphone 5- from ios 4.0technical details:- bluetooth 3.0- rechargeable lithium battery- charging time: approx. 5 h- uninterrupted work time: 90 h- standby time: 90 days- keyboard layout: qwerty (english)- range: 10 mpackage content:- silver ipad 3 ipad 2 keyboard case with smart cover function (qwerty layout)- usb charging cable- leicke smartpencil (touch screen pen)', 'title': 'sharon silver new ipad 4 retina ipad 3 ipad 2 ultrathin keyboard cover', 'price': 9.99, 'imurl': 'http://ecx.images-amazon.com/images/i/41ajbddkrbl._sy300_.jpg', 'related': {'also_viewed': ['b00bq4sbsm', 'b007vl8xp0', 'b00begs4r0', 'b00fdqqf82', 'b00bwtlz5c', 'b009sknxkc', 'b00ae9e35k', 'b00drfnkck', 'b00epcqdbo', 'b00d3v4hrk', 'b00di1qu5c', 'b00bx2ylvi', 'b00eloeidg', 'b004x355y6', 'b00gaxz9kc', 'b00c15frdm', 'b009frle0e', 'b00ab7qzmy', 'b00ayuzary', 'b00ei4oigq', 'b00c85sg88', 'b00cpitw2w', 'b00ay6usyi', 'b007rnclby', 'b00d38xdxm', 'b0054je706', 'b008cchxje', 'b005hmo6a6', 'b007lx81oq', 'b00clrpdck', 'b007cklcsk', 'b009p2s8nk', 'b005m1qfa6', 'b00buaj8zw', 'b00fj9ozhq', 'b005en83a2', 'b00fdqqfnw', 'b00cthjfbc', 'b009ar2mr8', 'b0091df9cg', 'b00a74kb12', 'b00jjj96dk', 'b007fqnk5e', 'b0057j284a', 'b004hco4gi', 'b00bwhixmm', 'b00h3oyshw', 'b00g2aeagm', 'b00bwhilcy', 'b0079toi8k', 'b0085jflzm', 'b00haww590', 'b00fs0ee40', 'b0095r71fg', 'b005y1cysq', 'b007un40lk', 'b00a3nm9su', 'b00eb8y404', 'b007c0yb2o', 'b004yadu4a'], 'buy_after_viewing': ['b00bq4sbsm', 'b009frle0e', 'b005hmo6a6', 'b007fqnk5e']}, 'categories': [['electronics', 'computers & accessories', 'touch screen tablet accessories', 'cases & sleeves', 'cases']]}\\n\",\n",
       " \"{'asin': 'b008zxxx2q', 'categories': [['electronics', 'computers & accessories', 'touch screen tablet accessories']], 'description': 'withsanoxy 6 in 1 hdmi adapter camera connection kit usb/tf/sd for ipad//iphone/itouch, you can easily download photos from your digital camera to your ipad via usb cable or directly from a sd card.the great advantage of sanoxy 6 in 1 hdmi adapter camera connection kit is its hdmi connection, which allows you to connect your ipad to any hdtv or hd monitor. it is fantastic to watch videos and films in large format with a resolution of up to 720p. of course, a high-quality av cable is included in the delivery. the micro usb connection allows you to charge your ipad or synchronize it with a computer for data exchange.&nbsp;all product advantages at once glance:- hdmi and av connections- charging function via micro usb&nbsp;technical details:- usb port for keyboard (w. low power consumption) and camera- micro usb for data exchange with laptop and charging- sd card slot- micro sd card slot- hdmi port for ipad, iphone 4, iphone 4s, ipod touch (4th generation)- 3.5 mm dc av connection - resolutions up to 720p (videos) and 1080p hd- supported photo formats jpeg and raw: the photos have to be stored in a dcim folder. this folder may have to be created manually with usb flash drives and micro sd cards. in case of detection problems, respective software may have to be installed.- compatibility: ios 5.0.1please note:either the hdmi or av connection can be used at the same time with the micro usb connection. other connections/ports do not work at the same time.&nbsp;package content:- leicke hebron 6 in 1 ipad hdmi camera card reader- av cable- usb data cable leicke smartpencil', 'title': 'sanoxy&reg; 6 in 1 hdmi adapter camera connection kit usb/tf/sd for ipad//iphone/itouch', 'price': 9.79, 'imurl': 'http://ecx.images-amazon.com/images/i/41cdgor9qul._sy300_.jpg', 'brand': 'sanoxy', 'related': {'also_bought': ['b004j22fm6', 'b004ht6ts2', 'b00e7nw1qm', 'b008h7uaik', 'b006hggp7i', 'b0081xbv92', 'b009whv3bm', 'b002bbjmo6', 'b009amz6ey', 'b005e7kmh0', 'b0093exock', 'b005hrlppa', 'b005hrt88g', 'b0094z6n9y', 'b00gmxocbm', 'b005hmo6a6', 'b008v6jl14', 'b0085qml4y', 'b0068rkk18', 'b00asvcy46', 'b0090y6ii0', 'b008gvm9k4', 'b000o5n5ai'], 'bought_together': ['b002bbjmo6'], 'buy_after_viewing': ['b009whv3bm', 'b0094z6n9y', 'b008h7uaik', 'b0090y6ii0']}}\\n\",\n",
       " '{\\'asin\\': \\'b00c8jq16i\\', \\'description\\': \"with this hdmi camera connection kit, you can easily download photos from your digital camera to your ipad via usb cable or directly from a sd card. the great advantage of this kit is its hdmi connection, which allows you to connect your ipad to any hdtv or hd monitor. it\\'s fantastic to watch videos and films in large format with a resolution of up to 720p. of course, a high-quality av cable is included in the delivery.\\\\n\\\\nthe micro usb connection allows you to charge your ipad or synchronise it with a computer for data exchange.\\\\n\\\\nall product advantages at once glance:\\\\n\\\\n- hdmi and av connections\\\\n- charging function via micro usb\\\\n\\\\ntechnical details:\\\\n\\\\n- usb port for keyboard (w. low power consumption) and camera\\\\n- micro usb for data exchange with laptop and charging\\\\n- sd card slot\\\\n- micro sd card slot\\\\n- hdmi port for ipad, iphone 4, iphone 4s, ipod touch (4th generation)\\\\n- 3.5 mm dc av connection\\\\n- resolutions up to 720p (videos) and 1080p hd\\\\n- supported photo formats jpeg and raw: the photos have to be stored in a dcim folder. this folder may have to be created manually with usb flash drives and micro sd cards. in case of detection problems, respective software may have to be installed.\\\\n- compatibility: ios 5.0.1\\\\nplease note: either the hdmi or av connection can be used at the same time with the micro usb connection. other connections/ports do not work at the same time.\\\\n\\\\npackage content:\\\\n\\\\n- leicke hebron 6 in 1 ipad hdmi camera card reader\\\\n- av cable\\\\n- usb data cable\\\\nleicke smartpencil\", \\'title\\': \\'liying 6 in 1 camera connection kit with 1080p hdmi &amp; audio video av tv output micro sd/tf &amp; sd memory card reader keyboard input micro usb for apple ipad 1 ipad 2 ipad 3 iphone 3 4 4s ipod boxed\\', \\'price\\': 20.78, \\'imurl\\': \\'http://ecx.images-amazon.com/images/i/31geh6iug5l._sy300_.jpg\\', \\'related\\': {\\'also_viewed\\': [\\'b004j22fm6\\', \\'b008zxxx2q\\', \\'b0068rkk18\\', \\'b00hxd5usy\\', \\'b00cqe8brw\\', \\'b006j1aqw6\\', \\'b00gsnhwj0\\', \\'b00d9lzzzw\\', \\'b00gmxocbm\\', \\'b00j8sd5z2\\', \\'b00bukq4zo\\', \\'b003k1eym6\\', \\'b0081xbv92\\'], \\'buy_after_viewing\\': [\\'b004j22fm6\\', \\'b008v6jl14\\', \\'b008zxxx2q\\', \\'b009mif8bm\\']}, \\'categories\\': [[\\'electronics\\', \\'computers & accessories\\', \\'touch screen tablet accessories\\']]}\\n',\n",
       " \"{'asin': 'b00cgtlovw', 'categories': [['electronics', 'computers & accessories', 'cables & accessories', 'input devices', 'digital pens']], 'description': 'your words. your ideas. any time. anywhere.record everything you hear, say, write and draw. wirelessly sync notes and audio to your personal evernote account where you can replay, organize, search and share your interactive notes any time and anywhere.holds up to 200 hours of audio and thousands of pages of notes\\\\nwirelessly syncs notes and audio to your personal evernote account seamlessly syncs your smartpen content across any computer or device running mac os x, windows, ios, androidtm and more', 'title': 'livescribe apx-00012 8gb sky wifi propack', 'price': 255.83, 'imurl': 'http://ecx.images-amazon.com/images/i/31%2bgnvpw6wl._sy300_.jpg', 'brand': 'livescribe', 'related': {'also_viewed': ['b009pk2t00', 'b001aaozv4', 'b001aalj1i', 'b00524dlz0', 'b009fu2ayu', 'b009fu2aw2', 'b003to56f8', 'b00fg38l16', 'b00fonjdz6', 'b003rapakk', 'b002m3ho0m', 'b002djtmsw', 'b00264gkxo', 'b006wapm78', 'b003to56ey', 'b001aalj2m', 'b002djv83y'], 'bought_together': ['b002m3ho0m'], 'buy_after_viewing': ['b009pk2t00', 'b001aaozv4', 'b001aalj1i', 'b002m3ho0m']}}\\n\",\n",
       " \"{'asin': 'b00cvtl3bs', 'categories': [['electronics', 'computers & accessories', 'cables & accessories', 'input devices', 'digital pens']], 'description': 'your words. your ideas. any time. anywhere.record everything you hear, say, write and draw. wirelessly sync notes and audio to your personal evernote&reg; account where you can replay, organize, search and share your interactive notes any time and anywhere.holds up to 200 hours of audio and thousands of pages of noteswirelessly syncs notes and audio to your personal evernote account seamlessly syncs your smartpen content across any computer or device running mac os x&reg;, windows&reg;, ios&reg;, android&trade; and moreincludes exclusive livescribe plan for evernote, with 500mb additional monthly upload capacity for smartpen notes and audio', 'title': 'livescribe 2gb sky wifi smartpen - dot paper - mac pc', 'price': 183.21, 'imurl': 'http://ecx.images-amazon.com/images/i/21dq4tinxvl.jpg', 'brand': 'livescribe', 'related': {'also_viewed': ['b00fg38l16', 'b00524dlz0', 'b009fu2ayu', 'b00fonjdz6']}}\\n\",\n",
       " '{\\'asin\\': \\'b00cx49v38\\', \\'description\\': \"attach the e-pens base unit to the 30 pin dock port (does not work with the newer lightning port) then write and draw freely on the ipad\\'s screen. then convert your handwritten notes to digital text on your ipad.\\\\n\\\\nthis digital pen does not work on newer ipad\\'s with lightning ports.\", \\'title\\': \\'e-pens mobile notes for ipad | epn007-en | smart pen - digital pen - smartpen\\', \\'price\\': 111.0, \\'imurl\\': \\'http://ecx.images-amazon.com/images/i/41ubr2at3il._sy300_.jpg\\', \\'related\\': {\\'also_viewed\\': [\\'b00524dlz0\\', \\'b00ao1l1rg\\', \\'b00fonjdz6\\', \\'b009pk2t00\\', \\'b00dqeb1v4\\', \\'b00931k1qk\\', \\'b00fg38l16\\', \\'b009fu2aw2\\', \\'b009fu2ayu\\', \\'b00kfbwjsu\\', \\'b00cx49vqu\\', \\'b000ld25mc\\', \\'b008kml220\\', \\'b00200jxga\\', \\'b001aan4pw\\', \\'b004qoeri2\\', \\'b0000ac88k\\', \\'b00ca65ar0\\', \\'b006wapm78\\', \\'b00hzqlmcm\\', \\'b00931dhkm\\', \\'b00931ky8u\\', \\'b0057fwwz4\\', \\'b00fu5mzi0\\', \\'b003jznzr8\\', \\'b002ze4tdi\\', \\'b00ca67pvo\\', \\'b0064rej3c\\', \\'b00afpr68e\\', \\'b00en27u9u\\']}, \\'categories\\': [[\\'electronics\\', \\'computers & accessories\\', \\'cables & accessories\\', \\'input devices\\', \\'digital pens\\']]}\\n',\n",
       " \"{'asin': 'b00fg38l16', 'categories': [['electronics', 'computers & accessories', 'touch screen tablet accessories', 'cases & sleeves', 'cases']], 'description': '', 'title': 'livescribe 3 smartpen for ios7 iphone and ipad', 'price': 149.95, 'imurl': 'http://ecx.images-amazon.com/images/i/31hrevwxrol._sx300_.jpg', 'brand': 'livescribe', 'related': {'also_bought': ['b00gkinxtg', 'b001aalj1i', 'b00gkinxuu', 'b002m3ho0m', 'b001aalj2m', 'b003to56f8', 'b001aaozv4', 'b00hmd8aby', 'b00264gkxo', 'b004h0x3ye', 'b001r4i74e', 'b003to56fi', 'b00hmd5p4y', 'b001aaoznw', 'b002gyvtcg', 'b003to56ey', 'b004wkkrts', 'b009fu2ayu', 'b00524dlz0', 'b001aaozpu', 'b00edvkeai', 'b009pk2t00', 'b0010wr1c2', 'b009fu2aw2', 'b007jus330', 'b00edy7ara', 'b00dqeb1v4', 'b00fiotk04', 'b00cky757a', 'b00g2udahc', 'b00fip6alu', 'b009rxd2ni', 'b00k79s9km', 'b00k962e0o', '886613760x', 'b00ip93pv4', 'b009348x7q', 'b00a2awbku', 'b00g3ddbvi', 'b00e8cigca', 'b00fom2y6w', 'b00fe690di', 'b008np76fq', 'b00crb53cu', 'b000n5ybkc', 'b00giy960c', 'b00ez9xhso', 'b00c1c1wu2', 'b004mf11mu', 'b00fd5l646', 'b00h4bbwgy', 'b00931ky8u', 'b00931k1qk', 'b00gtgetfg', 'b00eoe4g4e', 'b00ei8ss4u', 'b008ltbjfw', 'b00c2ntxg0', 'b00b3y4fas', 'b00cw7kk9k', 'b000ooyecc', 'b00b3oa7r8'], 'bought_together': ['b001aalj1i', 'b001aaozv4'], 'buy_after_viewing': ['b001aalj1i', 'b002m3ho0m', 'b00524dlz0', 'b001aaozv4']}}\\n\",\n",
       " \"{'asin': 'b00gkinxtg', 'related': {'also_bought': ['b00fg38l16', 'b00fonjdz6', 'b002m3ho0m', 'b00gkinxuu', 'b001aalj1i', 'b001aalj2m', 'b003to56f8', 'b00264gkxo', 'b004h0x3ye', 'b001r4i74e', 'b001aaoznw', 'b001aaozv4', 'b003to56fi', 'b004wkkrts', 'b003to56ey', 'b00hmd5p4y', 'b00hmd8aby', 'b001aaozpu', 'b009fu2ayu', 'b00524dlz0', 'b00fip6alu', 'b00edvkeai', 'b00fiotk04', 'b009pk2t00', 'b007jus330', 'b00dqeb1v4', 'b002gyvtcg', 'b009fu2aw2', 'b001kpr7yg', 'b00hx46xqg', 'b00374grxk', 'b00e6axzhu', 'b00il7bjmm', 'b001aalj9u', 'b0076z3gmg', 'b00ip93pv4', 'b00ao1l1rg', 'b00cps6vto', 'b00hw7cyiu', 'b00931ky8u', 'b00bkeqbi0', 'b00lts25ua', 'b006ffnliw', 'b008np76fq', 'b008cxfm64', 'b00atz9qmo', 'b00frzsbqi', 'b00eoe4g4e', 'b009vl9ygu', 'b00jp12300', 'b0042estsk', 'b00ibdob5i', 'b004mmehkg', 'b00005ml7q', 'b00b5rgawy', 'b00bwhilcy'], 'bought_together': ['b001aalj1i'], 'buy_after_viewing': ['b00gkinxuu', 'b001aaozv4', 'b001aalj1i', 'b002m3ho0m']}, 'title': 'livescribe 3 smartpen ink cartridge, medium black (8-pack)', 'price': 10.68, 'salesrank': {}, 'imurl': 'http://ecx.images-amazon.com/images/i/31snq9f4yyl._sx300_.jpg', 'brand': 'livescribe', 'categories': [['electronics', 'computers & accessories', 'cables & accessories', 'input devices', 'digital pens']], 'description': 'enjoy the precision of writing with genuine swiss-made livescribe 3 ink cartridges. the package includes 8 replacement cartridges, black in color with a medium ballpoint. these ink refills will only work with livescribe 3 smartpens.'}\\n\",\n",
       " \"{'asin': 'b00gkinxuu', 'related': {'also_bought': ['b00fg38l16', 'b00fonjdz6', 'b00gkinxtg', 'b001aalj2m', 'b002m3ho0m', 'b001aalj1i', 'b004h0x3ye', 'b003to56f8', 'b00264gkxo', 'b001r4i74e', 'b00edvkeai', 'b001aaozv4', 'b00hmd8aby', 'b001aaoznw', 'b001aaozpu', 'b004wkkrts', 'b003to56fi', 'b00dqeb1v4', 'b00edy7ara', 'b003to56ey', 'b009fu2ayu', 'b00hx46xqg', 'b007jus330', 'b00fip6alu', 'b00hmd5p4y', '8867323938', 'b00gojsfqc', 'b0010wjafi', 'b00jsqv44s', 'b009pk2t00', 'b00524dlz0', '8867323954', 'b00ei8ss4u', 'b00fiotk04', 'b002gyvtcg', 'b00g2ud2pm', 'b00j3lu1fg', 'b00ao1l1rg', 'b008kml220', 'b0010wr1c2', 'b001aalj9u', 'b001ph7yjm', 'b001kpr7yg', 'b00h4bbwgy', 'b00cx5p8fc', 'b00dvh62j2', 'b00gzmlcwc', 'b002q1indm', 'b00epgh86o', 'b00atz9qmo', 'b009fu2aw2', 'b00ez9xhso', 'b00hwmp6cq', 'b00dr9v1t0', 'b00ibdob5i', 'b00931k1qk', 'b008alaha4', 'b002i9qpau', 'b0053trh2m', 'b00bjgnrr2', 'b008ala6dw', 'b0006vgzfc', 'b002vpe1qg', 'b003odfswa', 'b002g4dhgm', 'b00likofde'], 'bought_together': ['b00fonjdz6', 'b00gkinxtg'], 'buy_after_viewing': ['b00gkinxtg', 'b001aaozv4', 'b001aalj1i', 'b002m3ho0m']}, 'title': 'livescribe 3 smartpen ink cartridge, medium blue (8-pack)', 'price': 10.68, 'salesrank': {}, 'imurl': 'http://ecx.images-amazon.com/images/i/31gov1c-btl._sx300_.jpg', 'brand': 'livescribe', 'categories': [['electronics', 'computers & accessories', 'cables & accessories', 'input devices', 'digital pens']], 'description': 'enjoy the precision of writing with genuine swiss-made livescribe 3 ink cartridges. the package includes 8 replacement cartridges, black in color with a medium ballpoint. these ink refills will only work with livescribe 3 smartpens.'}\\n\",\n",
       " \"{'asin': 'b00l37yp3m', 'description': 'your words. your ideas. any time. anywhere.record everything you hear, say, write and draw. wirelessly sync notes and audio to your personal evernote account where you can replay, organize, search and share your interactive notes any time and anywhere.holds up to 200 hours of audio and thousands of pages of noteswirelessly syncs notes and audio to your personal evernote account seamlessly syncs your smartpen content across any computer or device running mac os x, windows, ios, androidtm and moreincludes exclusive livescribe plan for evernote, with 500mb additional monthly upload capacity for smartpen notes and audio', 'title': 'livescribe sky 2gb wifi smartpen / apx00010 /', 'price': 193.99, 'imurl': 'http://ecx.images-amazon.com/images/i/31v14vpgjsl._sy300_.jpg', 'categories': [['electronics', 'computers & accessories', 'monitors']]}\\n\",\n",
       " \"{'asin': 'b001r4i74e', 'related': {'also_bought': ['b001aaozv4', 'b00524dlz0', 'b001aalj1i', 'b009fu2ayu', 'b00gkinxtg', 'b007jus330', 'b002m3ho0m', 'b003to56ey', 'b003to56f8', 'b004h0x3ye', 'b00264gkxo', 'b00fonjdz6', 'b00fg38l16', 'b001aaoznw', 'b00gkinxuu', 'b009pk2t00', 'b00edvkeai', 'b003to56fi', 'b00fip6alu', 'b001aalj2m', 'b00fiotk04', 'b00edy7ara', 'b009fu2aw2', 'b009rxd2ni', 'b00hmd5p4y', 'b003rapakk', 'b004wkkrts', 'b002djtmr8', 'b00hmd8aby', 'b002djv83y', 'b001aaozpu', 'b002gyvtcg', 'b001aalj9u', 'b0050affwi', 'b00dqeb1v4', 'b00206wj42', 'b0010wr1c2', '8866137618', 'b001jz6p4a', '1609136004', 'b0010wjafi', 'b0025wef52', 'b00jix5ko6', 'b008np76fq', 'b000v9cq1q', 'b00expscbc', '1118671252', '0486469247', 'b003o2rxuq'], 'bought_together': ['b001aaozv4', 'b001aalj1i'], 'buy_after_viewing': ['b001aalj1i', 'b001aaozv4', 'b002m3ho0m', 'b00524dlz0']}, 'title': 'livescribe 8.5 x 11 3-subject notebook #1 (dark blue)', 'price': 5.76, 'salesrank': {}, 'imurl': 'http://ecx.images-amazon.com/images/i/41gxqa7as-l._sx300_.jpg', 'brand': 'livescribe', 'categories': [['office products', 'office & school supplies', 'paper', 'notebooks & writing pads', 'wirebound notebooks']], 'description': 'college ruled 3 subject notebook (#1) for your pulse smartpen'}\\n\",\n",
       " \"{'asin': 'b004wkkrts', 'categories': [['office products', 'office & school supplies', 'paper', 'notebooks & writing pads']], 'description': 'a pocket sized flip notepad with a protective black cover makes it convenient for quick and easy note taking on the spot. the pulse smartpen only works with livescribe dot paper.', 'title': 'livescribe flip notepad - 60 sheet(s) - ruled - 3&quot; x 5&quot; - 4 / pack', 'price': 23.52, 'imurl': 'http://ecx.images-amazon.com/images/i/314nrr-15al.jpg', 'brand': 'livescribe', 'related': {'also_bought': ['b00gkinxtg', 'b00fonjdz6', 'b004h0x3ye', 'b001aalj2m', 'b002m3ho0m', 'b003to56f8', 'b001aaozv4', 'b00264gkxo', 'b00gkinxuu', 'b003to56fi', 'b00fg38l16', 'b001aalj1i', 'b003to56ey', 'b009fu2ayu', 'b00edvkeai', 'b00524dlz0', 'b001r4i74e', 'b001aaozpu', 'b009pk2t00', 'b0017dcqce', 'b00fiotk04', 'b009fu2aw2', 'b007jus330', 'b001aaoznw', 'b00fip6alu', 'b001unthqo', 'b00hmd5p4y', '8867323903', 'b00g2udahc', 'b003sytywk', 'b00dqeb1v4', 'b001aalj9u', 'b00188dovk', 'b00edy7ara', 'b004mmehkg'], 'also_viewed': ['b00264gkxo', 'b002m3ho0m', 'b001aaozv4', 'b001aalj2m', 'b001unthqo', 'b003to56f8', 'b004h0x3ye', 'b003sytywk', 'b001aaoznw', 'b001r4i74e', 'b003to56ey', 'b001aalj1i', 'b0017dcqce', 'b00gkinxtg', 'b004for9zq', 'b00fonjdz6', 'b001aaozpu', 'b001f1oxem', 'b00itxoci6', 'b003to56fi', 'b00fg38l16', 'b001afoxzw', 'b00524dlz0', 'b009pk2t00', 'b00188dovk', 'b000ayl0og', 'b009fu2aw2', 'b009fu2ayu', 'b0019ipiea', 'b00a24lf3u', 'b0018kkimg', 'b00edvkeai', 'b00820y2ta', 'b00cvtkyk4', 'b000v0bt0y', 'b0017d1p9e', 'b001ccmll6', 'b000789fis', 'b007jus330', 'b00fip6alu', 'b002cxu5nk', 'b00gkinxuu', 'b0075ldf90', '8883705483', 'b00801mdoc', 'b00fiotk04', 'b001aalj9u', '8883705491', 'b009e327lo', 'b007jy6ahw', 'b0009q6y14', 'b003rapakk', 'b00bqm0uem', 'b001l43tp2', 'b008sld2bw', 'b00hmd5p4y', 'b00275zydo', 'b005in12d8', 'b00a8lc0ek']}}\\n\"]"
      ]
     },
     "execution_count": 14,
     "metadata": {},
     "output_type": "execute_result"
    }
   ],
   "source": [
    "filter_products_raw('smartpen')"
   ]
  },
  {
   "cell_type": "markdown",
   "metadata": {},
   "source": [
    "**Task 2:** Using the function you just wrote, try filtering the products in `products.json` by different key words or phrases.  Print out the total number of products that match the key phrase.  Also print out the first three products that match the key phrase.  Use this technique to find a collection of products that would be in competition with the product your team is exploring."
   ]
  },
  {
   "cell_type": "code",
   "execution_count": 3,
   "metadata": {},
   "outputs": [
    {
     "data": {
      "text/plain": [
       "33"
      ]
     },
     "execution_count": 3,
     "metadata": {},
     "output_type": "execute_result"
    }
   ],
   "source": [
    "len(filter_products_raw('smartpen'))"
   ]
  },
  {
   "cell_type": "markdown",
   "metadata": {},
   "source": [
    "**Task 3:** With the `filter_products_raw` function as a starting point, create a new function `filter_products_df` that returns a pandas data frame with two columns: `product.id` and `price`.  \n",
    "\n",
    "*Hints:*\n",
    "\n",
    "*1) The product id isn't called that; you need to figure out what it's called in the documentation.*\n",
    "\n",
    "*2) The json data files aren't proper json for multiple reasons; consider using the `demjson` library.*\n",
    "\n",
    "*3) You may need to ignore products for which prices are missing.*"
   ]
  },
  {
   "cell_type": "code",
   "execution_count": 4,
   "metadata": {},
   "outputs": [],
   "source": [
    "import ast\n",
    "import demjson\n",
    "import pandas as pd\n",
    "\n",
    "def filter_products_df(key_phrase):\n",
    "    product_id_list=[]\n",
    "    price_list=[]\n",
    "    for i in filter_products_raw(key_phrase):\n",
    "        mid_dic = demjson.decode(i)\n",
    "        try: \n",
    "            price_list.append(mid_dic['price'])\n",
    "            product_id_list.append(mid_dic['asin'])\n",
    "        except:\n",
    "            continue \n",
    "        #i = ast.literal_eval(i)\n",
    "        #idlist.append(i.get('asin'))\n",
    "        #pricelist.append(i.get('price'))\n",
    "    df = pd.DataFrame(list(zip(product_id_list,price_list)),columns = ['product.id','price'])\n",
    "    df.dropna(inplace=True)\n",
    "    return df"
   ]
  },
  {
   "cell_type": "markdown",
   "metadata": {},
   "source": [
    "**Task 4:** Using the new `filter_products_df` function, filter the products by the key phrase you identified in Task 2, resulting in a data frame of product ids with their corresponding prices; call this data frame variable `products`."
   ]
  },
  {
   "cell_type": "code",
   "execution_count": 16,
   "metadata": {
    "scrolled": true
   },
   "outputs": [],
   "source": [
    "products = filter_products_df(\"smartpen\")\n",
    "products\n",
    "products.to_csv(\"product.csv\",index=False,sep=',')"
   ]
  },
  {
   "cell_type": "markdown",
   "metadata": {},
   "source": [
    "**Task 5:** Plot the distribution of prices for products matching your query using the code provided in the following three cells."
   ]
  },
  {
   "cell_type": "code",
   "execution_count": 6,
   "metadata": {},
   "outputs": [],
   "source": [
    "# Set up R\n",
    "import tzlocal\n",
    "import rpy2.ipython\n",
    "%reload_ext rpy2.ipython"
   ]
  },
  {
   "cell_type": "code",
   "execution_count": 7,
   "metadata": {
    "scrolled": true
   },
   "outputs": [
    {
     "name": "stderr",
     "output_type": "stream",
     "text": [
      "C:\\App\\Aconda\\lib\\site-packages\\rpy2\\robjects\\pandas2ri.py:191: FutureWarning: from_items is deprecated. Please use DataFrame.from_dict(dict(items), ...) instead. DataFrame.from_dict(OrderedDict(items)) may be used to preserve the key order.\n",
      "  res = PandasDataFrame.from_items(items)\n"
     ]
    },
    {
     "name": "stdout",
     "output_type": "stream",
     "text": [
      "\n"
     ]
    },
    {
     "ename": "PermissionError",
     "evalue": "[WinError 32] 另一个程序正在使用此文件，进程无法访问。: 'C:\\\\Users\\\\szdxl\\\\AppData\\\\Local\\\\Temp\\\\tmpk0z77l4n\\\\Rplots001.png'",
     "output_type": "error",
     "traceback": [
      "\u001b[1;31m---------------------------------------------------------------------------\u001b[0m",
      "\u001b[1;31mRRuntimeError\u001b[0m                             Traceback (most recent call last)",
      "\u001b[1;32mC:\\App\\Aconda\\lib\\site-packages\\rpy2\\ipython\\rmagic.py\u001b[0m in \u001b[0;36meval\u001b[1;34m(self, code)\u001b[0m\n\u001b[0;32m    253\u001b[0m             \u001b[1;31m# Need the newline in case the last line in code is a comment\u001b[0m\u001b[1;33m\u001b[0m\u001b[1;33m\u001b[0m\u001b[1;33m\u001b[0m\u001b[0m\n\u001b[1;32m--> 254\u001b[1;33m             \u001b[0mvalue\u001b[0m\u001b[1;33m,\u001b[0m \u001b[0mvisible\u001b[0m \u001b[1;33m=\u001b[0m \u001b[0mro\u001b[0m\u001b[1;33m.\u001b[0m\u001b[0mr\u001b[0m\u001b[1;33m(\u001b[0m\u001b[1;34m\"withVisible({%s\\n})\"\u001b[0m \u001b[1;33m%\u001b[0m \u001b[0mcode\u001b[0m\u001b[1;33m)\u001b[0m\u001b[1;33m\u001b[0m\u001b[1;33m\u001b[0m\u001b[0m\n\u001b[0m\u001b[0;32m    255\u001b[0m         \u001b[1;32mexcept\u001b[0m \u001b[1;33m(\u001b[0m\u001b[0mri\u001b[0m\u001b[1;33m.\u001b[0m\u001b[0mRRuntimeError\u001b[0m\u001b[1;33m,\u001b[0m \u001b[0mValueError\u001b[0m\u001b[1;33m)\u001b[0m \u001b[1;32mas\u001b[0m \u001b[0mexception\u001b[0m\u001b[1;33m:\u001b[0m\u001b[1;33m\u001b[0m\u001b[1;33m\u001b[0m\u001b[0m\n",
      "\u001b[1;32mC:\\App\\Aconda\\lib\\site-packages\\rpy2\\robjects\\__init__.py\u001b[0m in \u001b[0;36m__call__\u001b[1;34m(self, string)\u001b[0m\n\u001b[0;32m    351\u001b[0m         \u001b[0mp\u001b[0m \u001b[1;33m=\u001b[0m \u001b[0m_rparse\u001b[0m\u001b[1;33m(\u001b[0m\u001b[0mtext\u001b[0m\u001b[1;33m=\u001b[0m\u001b[0mStrSexpVector\u001b[0m\u001b[1;33m(\u001b[0m\u001b[1;33m(\u001b[0m\u001b[0mstring\u001b[0m\u001b[1;33m,\u001b[0m\u001b[1;33m)\u001b[0m\u001b[1;33m)\u001b[0m\u001b[1;33m)\u001b[0m\u001b[1;33m\u001b[0m\u001b[1;33m\u001b[0m\u001b[0m\n\u001b[1;32m--> 352\u001b[1;33m         \u001b[0mres\u001b[0m \u001b[1;33m=\u001b[0m \u001b[0mself\u001b[0m\u001b[1;33m.\u001b[0m\u001b[0meval\u001b[0m\u001b[1;33m(\u001b[0m\u001b[0mp\u001b[0m\u001b[1;33m)\u001b[0m\u001b[1;33m\u001b[0m\u001b[1;33m\u001b[0m\u001b[0m\n\u001b[0m\u001b[0;32m    353\u001b[0m         \u001b[1;32mreturn\u001b[0m \u001b[0mconversion\u001b[0m\u001b[1;33m.\u001b[0m\u001b[0mri2py\u001b[0m\u001b[1;33m(\u001b[0m\u001b[0mres\u001b[0m\u001b[1;33m)\u001b[0m\u001b[1;33m\u001b[0m\u001b[1;33m\u001b[0m\u001b[0m\n",
      "\u001b[1;32mC:\\App\\Aconda\\lib\\site-packages\\rpy2\\robjects\\functions.py\u001b[0m in \u001b[0;36m__call__\u001b[1;34m(self, *args, **kwargs)\u001b[0m\n\u001b[0;32m    177\u001b[0m                 \u001b[0mkwargs\u001b[0m\u001b[1;33m[\u001b[0m\u001b[0mr_k\u001b[0m\u001b[1;33m]\u001b[0m \u001b[1;33m=\u001b[0m \u001b[0mv\u001b[0m\u001b[1;33m\u001b[0m\u001b[1;33m\u001b[0m\u001b[0m\n\u001b[1;32m--> 178\u001b[1;33m         \u001b[1;32mreturn\u001b[0m \u001b[0msuper\u001b[0m\u001b[1;33m(\u001b[0m\u001b[0mSignatureTranslatedFunction\u001b[0m\u001b[1;33m,\u001b[0m \u001b[0mself\u001b[0m\u001b[1;33m)\u001b[0m\u001b[1;33m.\u001b[0m\u001b[0m__call__\u001b[0m\u001b[1;33m(\u001b[0m\u001b[1;33m*\u001b[0m\u001b[0margs\u001b[0m\u001b[1;33m,\u001b[0m \u001b[1;33m**\u001b[0m\u001b[0mkwargs\u001b[0m\u001b[1;33m)\u001b[0m\u001b[1;33m\u001b[0m\u001b[1;33m\u001b[0m\u001b[0m\n\u001b[0m\u001b[0;32m    179\u001b[0m \u001b[1;33m\u001b[0m\u001b[0m\n",
      "\u001b[1;32mC:\\App\\Aconda\\lib\\site-packages\\rpy2\\robjects\\functions.py\u001b[0m in \u001b[0;36m__call__\u001b[1;34m(self, *args, **kwargs)\u001b[0m\n\u001b[0;32m    105\u001b[0m             \u001b[0mnew_kwargs\u001b[0m\u001b[1;33m[\u001b[0m\u001b[0mk\u001b[0m\u001b[1;33m]\u001b[0m \u001b[1;33m=\u001b[0m \u001b[0mconversion\u001b[0m\u001b[1;33m.\u001b[0m\u001b[0mpy2ri\u001b[0m\u001b[1;33m(\u001b[0m\u001b[0mv\u001b[0m\u001b[1;33m)\u001b[0m\u001b[1;33m\u001b[0m\u001b[1;33m\u001b[0m\u001b[0m\n\u001b[1;32m--> 106\u001b[1;33m         \u001b[0mres\u001b[0m \u001b[1;33m=\u001b[0m \u001b[0msuper\u001b[0m\u001b[1;33m(\u001b[0m\u001b[0mFunction\u001b[0m\u001b[1;33m,\u001b[0m \u001b[0mself\u001b[0m\u001b[1;33m)\u001b[0m\u001b[1;33m.\u001b[0m\u001b[0m__call__\u001b[0m\u001b[1;33m(\u001b[0m\u001b[1;33m*\u001b[0m\u001b[0mnew_args\u001b[0m\u001b[1;33m,\u001b[0m \u001b[1;33m**\u001b[0m\u001b[0mnew_kwargs\u001b[0m\u001b[1;33m)\u001b[0m\u001b[1;33m\u001b[0m\u001b[1;33m\u001b[0m\u001b[0m\n\u001b[0m\u001b[0;32m    107\u001b[0m         \u001b[0mres\u001b[0m \u001b[1;33m=\u001b[0m \u001b[0mconversion\u001b[0m\u001b[1;33m.\u001b[0m\u001b[0mri2ro\u001b[0m\u001b[1;33m(\u001b[0m\u001b[0mres\u001b[0m\u001b[1;33m)\u001b[0m\u001b[1;33m\u001b[0m\u001b[1;33m\u001b[0m\u001b[0m\n",
      "\u001b[1;31mRRuntimeError\u001b[0m: ",
      "\nDuring handling of the above exception, another exception occurred:\n",
      "\u001b[1;31mRInterpreterError\u001b[0m                         Traceback (most recent call last)",
      "\u001b[1;32mC:\\App\\Aconda\\lib\\site-packages\\rpy2\\ipython\\rmagic.py\u001b[0m in \u001b[0;36mR\u001b[1;34m(self, line, cell, local_ns)\u001b[0m\n\u001b[0;32m    703\u001b[0m             \u001b[1;32melse\u001b[0m\u001b[1;33m:\u001b[0m\u001b[1;33m\u001b[0m\u001b[1;33m\u001b[0m\u001b[0m\n\u001b[1;32m--> 704\u001b[1;33m                 \u001b[0mtext_result\u001b[0m\u001b[1;33m,\u001b[0m \u001b[0mresult\u001b[0m\u001b[1;33m,\u001b[0m \u001b[0mvisible\u001b[0m \u001b[1;33m=\u001b[0m \u001b[0mself\u001b[0m\u001b[1;33m.\u001b[0m\u001b[0meval\u001b[0m\u001b[1;33m(\u001b[0m\u001b[0mcode\u001b[0m\u001b[1;33m)\u001b[0m\u001b[1;33m\u001b[0m\u001b[1;33m\u001b[0m\u001b[0m\n\u001b[0m\u001b[0;32m    705\u001b[0m                 \u001b[0mtext_output\u001b[0m \u001b[1;33m+=\u001b[0m \u001b[0mtext_result\u001b[0m\u001b[1;33m\u001b[0m\u001b[1;33m\u001b[0m\u001b[0m\n",
      "\u001b[1;32mC:\\App\\Aconda\\lib\\site-packages\\rpy2\\ipython\\rmagic.py\u001b[0m in \u001b[0;36meval\u001b[1;34m(self, code)\u001b[0m\n\u001b[0;32m    256\u001b[0m             \u001b[0mwarning_or_other_msg\u001b[0m \u001b[1;33m=\u001b[0m \u001b[0mself\u001b[0m\u001b[1;33m.\u001b[0m\u001b[0mflush\u001b[0m\u001b[1;33m(\u001b[0m\u001b[1;33m)\u001b[0m \u001b[1;31m# otherwise next return seems to have copy of error\u001b[0m\u001b[1;33m\u001b[0m\u001b[1;33m\u001b[0m\u001b[0m\n\u001b[1;32m--> 257\u001b[1;33m             \u001b[1;32mraise\u001b[0m \u001b[0mRInterpreterError\u001b[0m\u001b[1;33m(\u001b[0m\u001b[0mcode\u001b[0m\u001b[1;33m,\u001b[0m \u001b[0mstr\u001b[0m\u001b[1;33m(\u001b[0m\u001b[0mexception\u001b[0m\u001b[1;33m)\u001b[0m\u001b[1;33m,\u001b[0m \u001b[0mwarning_or_other_msg\u001b[0m\u001b[1;33m)\u001b[0m\u001b[1;33m\u001b[0m\u001b[1;33m\u001b[0m\u001b[0m\n\u001b[0m\u001b[0;32m    258\u001b[0m         \u001b[0mtext_output\u001b[0m \u001b[1;33m=\u001b[0m \u001b[0mself\u001b[0m\u001b[1;33m.\u001b[0m\u001b[0mflush\u001b[0m\u001b[1;33m(\u001b[0m\u001b[1;33m)\u001b[0m\u001b[1;33m\u001b[0m\u001b[1;33m\u001b[0m\u001b[0m\n",
      "\u001b[1;31mRInterpreterError\u001b[0m: Failed to parse and evaluate line 'library(ggplot2)\\nggplot(products, aes(x=price)) + geom_density() + theme_bw()\\n'.\nR error message: ''",
      "\nDuring handling of the above exception, another exception occurred:\n",
      "\u001b[1;31mPermissionError\u001b[0m                           Traceback (most recent call last)",
      "\u001b[1;32m<ipython-input-7-5f98883baae5>\u001b[0m in \u001b[0;36m<module>\u001b[1;34m\u001b[0m\n\u001b[1;32m----> 1\u001b[1;33m \u001b[0mget_ipython\u001b[0m\u001b[1;33m(\u001b[0m\u001b[1;33m)\u001b[0m\u001b[1;33m.\u001b[0m\u001b[0mrun_cell_magic\u001b[0m\u001b[1;33m(\u001b[0m\u001b[1;34m'R'\u001b[0m\u001b[1;33m,\u001b[0m \u001b[1;34m'-i products'\u001b[0m\u001b[1;33m,\u001b[0m \u001b[1;34m'library(ggplot2)\\nggplot(products, aes(x=price)) + geom_density() + theme_bw()\\n'\u001b[0m\u001b[1;33m)\u001b[0m\u001b[1;33m\u001b[0m\u001b[1;33m\u001b[0m\u001b[0m\n\u001b[0m",
      "\u001b[1;32mC:\\App\\Aconda\\lib\\site-packages\\IPython\\core\\interactiveshell.py\u001b[0m in \u001b[0;36mrun_cell_magic\u001b[1;34m(self, magic_name, line, cell)\u001b[0m\n\u001b[0;32m   2356\u001b[0m             \u001b[1;32mwith\u001b[0m \u001b[0mself\u001b[0m\u001b[1;33m.\u001b[0m\u001b[0mbuiltin_trap\u001b[0m\u001b[1;33m:\u001b[0m\u001b[1;33m\u001b[0m\u001b[1;33m\u001b[0m\u001b[0m\n\u001b[0;32m   2357\u001b[0m                 \u001b[0margs\u001b[0m \u001b[1;33m=\u001b[0m \u001b[1;33m(\u001b[0m\u001b[0mmagic_arg_s\u001b[0m\u001b[1;33m,\u001b[0m \u001b[0mcell\u001b[0m\u001b[1;33m)\u001b[0m\u001b[1;33m\u001b[0m\u001b[1;33m\u001b[0m\u001b[0m\n\u001b[1;32m-> 2358\u001b[1;33m                 \u001b[0mresult\u001b[0m \u001b[1;33m=\u001b[0m \u001b[0mfn\u001b[0m\u001b[1;33m(\u001b[0m\u001b[1;33m*\u001b[0m\u001b[0margs\u001b[0m\u001b[1;33m,\u001b[0m \u001b[1;33m**\u001b[0m\u001b[0mkwargs\u001b[0m\u001b[1;33m)\u001b[0m\u001b[1;33m\u001b[0m\u001b[1;33m\u001b[0m\u001b[0m\n\u001b[0m\u001b[0;32m   2359\u001b[0m             \u001b[1;32mreturn\u001b[0m \u001b[0mresult\u001b[0m\u001b[1;33m\u001b[0m\u001b[1;33m\u001b[0m\u001b[0m\n\u001b[0;32m   2360\u001b[0m \u001b[1;33m\u001b[0m\u001b[0m\n",
      "\u001b[1;32m<C:\\App\\Aconda\\lib\\site-packages\\decorator.py:decorator-gen-131>\u001b[0m in \u001b[0;36mR\u001b[1;34m(self, line, cell, local_ns)\u001b[0m\n",
      "\u001b[1;32mC:\\App\\Aconda\\lib\\site-packages\\IPython\\core\\magic.py\u001b[0m in \u001b[0;36m<lambda>\u001b[1;34m(f, *a, **k)\u001b[0m\n\u001b[0;32m    185\u001b[0m     \u001b[1;31m# but it's overkill for just that one bit of state.\u001b[0m\u001b[1;33m\u001b[0m\u001b[1;33m\u001b[0m\u001b[1;33m\u001b[0m\u001b[0m\n\u001b[0;32m    186\u001b[0m     \u001b[1;32mdef\u001b[0m \u001b[0mmagic_deco\u001b[0m\u001b[1;33m(\u001b[0m\u001b[0marg\u001b[0m\u001b[1;33m)\u001b[0m\u001b[1;33m:\u001b[0m\u001b[1;33m\u001b[0m\u001b[1;33m\u001b[0m\u001b[0m\n\u001b[1;32m--> 187\u001b[1;33m         \u001b[0mcall\u001b[0m \u001b[1;33m=\u001b[0m \u001b[1;32mlambda\u001b[0m \u001b[0mf\u001b[0m\u001b[1;33m,\u001b[0m \u001b[1;33m*\u001b[0m\u001b[0ma\u001b[0m\u001b[1;33m,\u001b[0m \u001b[1;33m**\u001b[0m\u001b[0mk\u001b[0m\u001b[1;33m:\u001b[0m \u001b[0mf\u001b[0m\u001b[1;33m(\u001b[0m\u001b[1;33m*\u001b[0m\u001b[0ma\u001b[0m\u001b[1;33m,\u001b[0m \u001b[1;33m**\u001b[0m\u001b[0mk\u001b[0m\u001b[1;33m)\u001b[0m\u001b[1;33m\u001b[0m\u001b[1;33m\u001b[0m\u001b[0m\n\u001b[0m\u001b[0;32m    188\u001b[0m \u001b[1;33m\u001b[0m\u001b[0m\n\u001b[0;32m    189\u001b[0m         \u001b[1;32mif\u001b[0m \u001b[0mcallable\u001b[0m\u001b[1;33m(\u001b[0m\u001b[0marg\u001b[0m\u001b[1;33m)\u001b[0m\u001b[1;33m:\u001b[0m\u001b[1;33m\u001b[0m\u001b[1;33m\u001b[0m\u001b[0m\n",
      "\u001b[1;32mC:\\App\\Aconda\\lib\\site-packages\\rpy2\\ipython\\rmagic.py\u001b[0m in \u001b[0;36mR\u001b[1;34m(self, line, cell, local_ns)\u001b[0m\n\u001b[0;32m    717\u001b[0m                 \u001b[0mprint\u001b[0m\u001b[1;33m(\u001b[0m\u001b[0me\u001b[0m\u001b[1;33m.\u001b[0m\u001b[0merr\u001b[0m\u001b[1;33m)\u001b[0m\u001b[1;33m\u001b[0m\u001b[1;33m\u001b[0m\u001b[0m\n\u001b[0;32m    718\u001b[0m             \u001b[1;32mif\u001b[0m \u001b[0mtmpd\u001b[0m\u001b[1;33m:\u001b[0m\u001b[1;33m\u001b[0m\u001b[1;33m\u001b[0m\u001b[0m\n\u001b[1;32m--> 719\u001b[1;33m                 \u001b[0mrmtree\u001b[0m\u001b[1;33m(\u001b[0m\u001b[0mtmpd\u001b[0m\u001b[1;33m)\u001b[0m\u001b[1;33m\u001b[0m\u001b[1;33m\u001b[0m\u001b[0m\n\u001b[0m\u001b[0;32m    720\u001b[0m             \u001b[1;32mreturn\u001b[0m\u001b[1;33m\u001b[0m\u001b[1;33m\u001b[0m\u001b[0m\n\u001b[0;32m    721\u001b[0m         \u001b[1;32mfinally\u001b[0m\u001b[1;33m:\u001b[0m\u001b[1;33m\u001b[0m\u001b[1;33m\u001b[0m\u001b[0m\n",
      "\u001b[1;32mC:\\App\\Aconda\\lib\\shutil.py\u001b[0m in \u001b[0;36mrmtree\u001b[1;34m(path, ignore_errors, onerror)\u001b[0m\n\u001b[0;32m    511\u001b[0m             \u001b[1;31m# can't continue even if onerror hook returns\u001b[0m\u001b[1;33m\u001b[0m\u001b[1;33m\u001b[0m\u001b[1;33m\u001b[0m\u001b[0m\n\u001b[0;32m    512\u001b[0m             \u001b[1;32mreturn\u001b[0m\u001b[1;33m\u001b[0m\u001b[1;33m\u001b[0m\u001b[0m\n\u001b[1;32m--> 513\u001b[1;33m         \u001b[1;32mreturn\u001b[0m \u001b[0m_rmtree_unsafe\u001b[0m\u001b[1;33m(\u001b[0m\u001b[0mpath\u001b[0m\u001b[1;33m,\u001b[0m \u001b[0monerror\u001b[0m\u001b[1;33m)\u001b[0m\u001b[1;33m\u001b[0m\u001b[1;33m\u001b[0m\u001b[0m\n\u001b[0m\u001b[0;32m    514\u001b[0m \u001b[1;33m\u001b[0m\u001b[0m\n\u001b[0;32m    515\u001b[0m \u001b[1;31m# Allow introspection of whether or not the hardening against symlink\u001b[0m\u001b[1;33m\u001b[0m\u001b[1;33m\u001b[0m\u001b[1;33m\u001b[0m\u001b[0m\n",
      "\u001b[1;32mC:\\App\\Aconda\\lib\\shutil.py\u001b[0m in \u001b[0;36m_rmtree_unsafe\u001b[1;34m(path, onerror)\u001b[0m\n\u001b[0;32m    395\u001b[0m                 \u001b[0mos\u001b[0m\u001b[1;33m.\u001b[0m\u001b[0munlink\u001b[0m\u001b[1;33m(\u001b[0m\u001b[0mfullname\u001b[0m\u001b[1;33m)\u001b[0m\u001b[1;33m\u001b[0m\u001b[1;33m\u001b[0m\u001b[0m\n\u001b[0;32m    396\u001b[0m             \u001b[1;32mexcept\u001b[0m \u001b[0mOSError\u001b[0m\u001b[1;33m:\u001b[0m\u001b[1;33m\u001b[0m\u001b[1;33m\u001b[0m\u001b[0m\n\u001b[1;32m--> 397\u001b[1;33m                 \u001b[0monerror\u001b[0m\u001b[1;33m(\u001b[0m\u001b[0mos\u001b[0m\u001b[1;33m.\u001b[0m\u001b[0munlink\u001b[0m\u001b[1;33m,\u001b[0m \u001b[0mfullname\u001b[0m\u001b[1;33m,\u001b[0m \u001b[0msys\u001b[0m\u001b[1;33m.\u001b[0m\u001b[0mexc_info\u001b[0m\u001b[1;33m(\u001b[0m\u001b[1;33m)\u001b[0m\u001b[1;33m)\u001b[0m\u001b[1;33m\u001b[0m\u001b[1;33m\u001b[0m\u001b[0m\n\u001b[0m\u001b[0;32m    398\u001b[0m     \u001b[1;32mtry\u001b[0m\u001b[1;33m:\u001b[0m\u001b[1;33m\u001b[0m\u001b[1;33m\u001b[0m\u001b[0m\n\u001b[0;32m    399\u001b[0m         \u001b[0mos\u001b[0m\u001b[1;33m.\u001b[0m\u001b[0mrmdir\u001b[0m\u001b[1;33m(\u001b[0m\u001b[0mpath\u001b[0m\u001b[1;33m)\u001b[0m\u001b[1;33m\u001b[0m\u001b[1;33m\u001b[0m\u001b[0m\n",
      "\u001b[1;32mC:\\App\\Aconda\\lib\\shutil.py\u001b[0m in \u001b[0;36m_rmtree_unsafe\u001b[1;34m(path, onerror)\u001b[0m\n\u001b[0;32m    393\u001b[0m         \u001b[1;32melse\u001b[0m\u001b[1;33m:\u001b[0m\u001b[1;33m\u001b[0m\u001b[1;33m\u001b[0m\u001b[0m\n\u001b[0;32m    394\u001b[0m             \u001b[1;32mtry\u001b[0m\u001b[1;33m:\u001b[0m\u001b[1;33m\u001b[0m\u001b[1;33m\u001b[0m\u001b[0m\n\u001b[1;32m--> 395\u001b[1;33m                 \u001b[0mos\u001b[0m\u001b[1;33m.\u001b[0m\u001b[0munlink\u001b[0m\u001b[1;33m(\u001b[0m\u001b[0mfullname\u001b[0m\u001b[1;33m)\u001b[0m\u001b[1;33m\u001b[0m\u001b[1;33m\u001b[0m\u001b[0m\n\u001b[0m\u001b[0;32m    396\u001b[0m             \u001b[1;32mexcept\u001b[0m \u001b[0mOSError\u001b[0m\u001b[1;33m:\u001b[0m\u001b[1;33m\u001b[0m\u001b[1;33m\u001b[0m\u001b[0m\n\u001b[0;32m    397\u001b[0m                 \u001b[0monerror\u001b[0m\u001b[1;33m(\u001b[0m\u001b[0mos\u001b[0m\u001b[1;33m.\u001b[0m\u001b[0munlink\u001b[0m\u001b[1;33m,\u001b[0m \u001b[0mfullname\u001b[0m\u001b[1;33m,\u001b[0m \u001b[0msys\u001b[0m\u001b[1;33m.\u001b[0m\u001b[0mexc_info\u001b[0m\u001b[1;33m(\u001b[0m\u001b[1;33m)\u001b[0m\u001b[1;33m)\u001b[0m\u001b[1;33m\u001b[0m\u001b[1;33m\u001b[0m\u001b[0m\n",
      "\u001b[1;31mPermissionError\u001b[0m: [WinError 32] 另一个程序正在使用此文件，进程无法访问。: 'C:\\\\Users\\\\szdxl\\\\AppData\\\\Local\\\\Temp\\\\tmpk0z77l4n\\\\Rplots001.png'"
     ]
    }
   ],
   "source": [
    "%%R -i products\n",
    "library(ggplot2)\n",
    "ggplot(products, aes(x=price)) + geom_histogram() + theme_bw()"
   ]
  },
  {
   "cell_type": "code",
   "execution_count": 27,
   "metadata": {
    "scrolled": true
   },
   "outputs": [
    {
     "name": "stdout",
     "output_type": "stream",
     "text": [
      "\n",
      "Error in ggsave(\"price_histogram.pdf\", width = 6.5, height = 3) : \n",
      "  could not find function \"ggsave\"\n"
     ]
    },
    {
     "ename": "PermissionError",
     "evalue": "[WinError 32] 另一个程序正在使用此文件，进程无法访问。: 'C:\\\\Users\\\\szdxl\\\\AppData\\\\Local\\\\Temp\\\\tmp_js6k0j0\\\\Rplots001.png'",
     "output_type": "error",
     "traceback": [
      "\u001b[1;31m---------------------------------------------------------------------------\u001b[0m",
      "\u001b[1;31mRRuntimeError\u001b[0m                             Traceback (most recent call last)",
      "\u001b[1;32mC:\\App\\Aconda\\lib\\site-packages\\rpy2\\ipython\\rmagic.py\u001b[0m in \u001b[0;36meval\u001b[1;34m(self, code)\u001b[0m\n\u001b[0;32m    253\u001b[0m             \u001b[1;31m# Need the newline in case the last line in code is a comment\u001b[0m\u001b[1;33m\u001b[0m\u001b[1;33m\u001b[0m\u001b[1;33m\u001b[0m\u001b[0m\n\u001b[1;32m--> 254\u001b[1;33m             \u001b[0mvalue\u001b[0m\u001b[1;33m,\u001b[0m \u001b[0mvisible\u001b[0m \u001b[1;33m=\u001b[0m \u001b[0mro\u001b[0m\u001b[1;33m.\u001b[0m\u001b[0mr\u001b[0m\u001b[1;33m(\u001b[0m\u001b[1;34m\"withVisible({%s\\n})\"\u001b[0m \u001b[1;33m%\u001b[0m \u001b[0mcode\u001b[0m\u001b[1;33m)\u001b[0m\u001b[1;33m\u001b[0m\u001b[1;33m\u001b[0m\u001b[0m\n\u001b[0m\u001b[0;32m    255\u001b[0m         \u001b[1;32mexcept\u001b[0m \u001b[1;33m(\u001b[0m\u001b[0mri\u001b[0m\u001b[1;33m.\u001b[0m\u001b[0mRRuntimeError\u001b[0m\u001b[1;33m,\u001b[0m \u001b[0mValueError\u001b[0m\u001b[1;33m)\u001b[0m \u001b[1;32mas\u001b[0m \u001b[0mexception\u001b[0m\u001b[1;33m:\u001b[0m\u001b[1;33m\u001b[0m\u001b[1;33m\u001b[0m\u001b[0m\n",
      "\u001b[1;32mC:\\App\\Aconda\\lib\\site-packages\\rpy2\\robjects\\__init__.py\u001b[0m in \u001b[0;36m__call__\u001b[1;34m(self, string)\u001b[0m\n\u001b[0;32m    351\u001b[0m         \u001b[0mp\u001b[0m \u001b[1;33m=\u001b[0m \u001b[0m_rparse\u001b[0m\u001b[1;33m(\u001b[0m\u001b[0mtext\u001b[0m\u001b[1;33m=\u001b[0m\u001b[0mStrSexpVector\u001b[0m\u001b[1;33m(\u001b[0m\u001b[1;33m(\u001b[0m\u001b[0mstring\u001b[0m\u001b[1;33m,\u001b[0m\u001b[1;33m)\u001b[0m\u001b[1;33m)\u001b[0m\u001b[1;33m)\u001b[0m\u001b[1;33m\u001b[0m\u001b[1;33m\u001b[0m\u001b[0m\n\u001b[1;32m--> 352\u001b[1;33m         \u001b[0mres\u001b[0m \u001b[1;33m=\u001b[0m \u001b[0mself\u001b[0m\u001b[1;33m.\u001b[0m\u001b[0meval\u001b[0m\u001b[1;33m(\u001b[0m\u001b[0mp\u001b[0m\u001b[1;33m)\u001b[0m\u001b[1;33m\u001b[0m\u001b[1;33m\u001b[0m\u001b[0m\n\u001b[0m\u001b[0;32m    353\u001b[0m         \u001b[1;32mreturn\u001b[0m \u001b[0mconversion\u001b[0m\u001b[1;33m.\u001b[0m\u001b[0mri2py\u001b[0m\u001b[1;33m(\u001b[0m\u001b[0mres\u001b[0m\u001b[1;33m)\u001b[0m\u001b[1;33m\u001b[0m\u001b[1;33m\u001b[0m\u001b[0m\n",
      "\u001b[1;32mC:\\App\\Aconda\\lib\\site-packages\\rpy2\\robjects\\functions.py\u001b[0m in \u001b[0;36m__call__\u001b[1;34m(self, *args, **kwargs)\u001b[0m\n\u001b[0;32m    177\u001b[0m                 \u001b[0mkwargs\u001b[0m\u001b[1;33m[\u001b[0m\u001b[0mr_k\u001b[0m\u001b[1;33m]\u001b[0m \u001b[1;33m=\u001b[0m \u001b[0mv\u001b[0m\u001b[1;33m\u001b[0m\u001b[1;33m\u001b[0m\u001b[0m\n\u001b[1;32m--> 178\u001b[1;33m         \u001b[1;32mreturn\u001b[0m \u001b[0msuper\u001b[0m\u001b[1;33m(\u001b[0m\u001b[0mSignatureTranslatedFunction\u001b[0m\u001b[1;33m,\u001b[0m \u001b[0mself\u001b[0m\u001b[1;33m)\u001b[0m\u001b[1;33m.\u001b[0m\u001b[0m__call__\u001b[0m\u001b[1;33m(\u001b[0m\u001b[1;33m*\u001b[0m\u001b[0margs\u001b[0m\u001b[1;33m,\u001b[0m \u001b[1;33m**\u001b[0m\u001b[0mkwargs\u001b[0m\u001b[1;33m)\u001b[0m\u001b[1;33m\u001b[0m\u001b[1;33m\u001b[0m\u001b[0m\n\u001b[0m\u001b[0;32m    179\u001b[0m \u001b[1;33m\u001b[0m\u001b[0m\n",
      "\u001b[1;32mC:\\App\\Aconda\\lib\\site-packages\\rpy2\\robjects\\functions.py\u001b[0m in \u001b[0;36m__call__\u001b[1;34m(self, *args, **kwargs)\u001b[0m\n\u001b[0;32m    105\u001b[0m             \u001b[0mnew_kwargs\u001b[0m\u001b[1;33m[\u001b[0m\u001b[0mk\u001b[0m\u001b[1;33m]\u001b[0m \u001b[1;33m=\u001b[0m \u001b[0mconversion\u001b[0m\u001b[1;33m.\u001b[0m\u001b[0mpy2ri\u001b[0m\u001b[1;33m(\u001b[0m\u001b[0mv\u001b[0m\u001b[1;33m)\u001b[0m\u001b[1;33m\u001b[0m\u001b[1;33m\u001b[0m\u001b[0m\n\u001b[1;32m--> 106\u001b[1;33m         \u001b[0mres\u001b[0m \u001b[1;33m=\u001b[0m \u001b[0msuper\u001b[0m\u001b[1;33m(\u001b[0m\u001b[0mFunction\u001b[0m\u001b[1;33m,\u001b[0m \u001b[0mself\u001b[0m\u001b[1;33m)\u001b[0m\u001b[1;33m.\u001b[0m\u001b[0m__call__\u001b[0m\u001b[1;33m(\u001b[0m\u001b[1;33m*\u001b[0m\u001b[0mnew_args\u001b[0m\u001b[1;33m,\u001b[0m \u001b[1;33m**\u001b[0m\u001b[0mnew_kwargs\u001b[0m\u001b[1;33m)\u001b[0m\u001b[1;33m\u001b[0m\u001b[1;33m\u001b[0m\u001b[0m\n\u001b[0m\u001b[0;32m    107\u001b[0m         \u001b[0mres\u001b[0m \u001b[1;33m=\u001b[0m \u001b[0mconversion\u001b[0m\u001b[1;33m.\u001b[0m\u001b[0mri2ro\u001b[0m\u001b[1;33m(\u001b[0m\u001b[0mres\u001b[0m\u001b[1;33m)\u001b[0m\u001b[1;33m\u001b[0m\u001b[1;33m\u001b[0m\u001b[0m\n",
      "\u001b[1;31mRRuntimeError\u001b[0m: Error in ggsave(\"price_histogram.pdf\", width = 6.5, height = 3) : \n  could not find function \"ggsave\"\n",
      "\nDuring handling of the above exception, another exception occurred:\n",
      "\u001b[1;31mRInterpreterError\u001b[0m                         Traceback (most recent call last)",
      "\u001b[1;32mC:\\App\\Aconda\\lib\\site-packages\\rpy2\\ipython\\rmagic.py\u001b[0m in \u001b[0;36mR\u001b[1;34m(self, line, cell, local_ns)\u001b[0m\n\u001b[0;32m    703\u001b[0m             \u001b[1;32melse\u001b[0m\u001b[1;33m:\u001b[0m\u001b[1;33m\u001b[0m\u001b[1;33m\u001b[0m\u001b[0m\n\u001b[1;32m--> 704\u001b[1;33m                 \u001b[0mtext_result\u001b[0m\u001b[1;33m,\u001b[0m \u001b[0mresult\u001b[0m\u001b[1;33m,\u001b[0m \u001b[0mvisible\u001b[0m \u001b[1;33m=\u001b[0m \u001b[0mself\u001b[0m\u001b[1;33m.\u001b[0m\u001b[0meval\u001b[0m\u001b[1;33m(\u001b[0m\u001b[0mcode\u001b[0m\u001b[1;33m)\u001b[0m\u001b[1;33m\u001b[0m\u001b[1;33m\u001b[0m\u001b[0m\n\u001b[0m\u001b[0;32m    705\u001b[0m                 \u001b[0mtext_output\u001b[0m \u001b[1;33m+=\u001b[0m \u001b[0mtext_result\u001b[0m\u001b[1;33m\u001b[0m\u001b[1;33m\u001b[0m\u001b[0m\n",
      "\u001b[1;32mC:\\App\\Aconda\\lib\\site-packages\\rpy2\\ipython\\rmagic.py\u001b[0m in \u001b[0;36meval\u001b[1;34m(self, code)\u001b[0m\n\u001b[0;32m    256\u001b[0m             \u001b[0mwarning_or_other_msg\u001b[0m \u001b[1;33m=\u001b[0m \u001b[0mself\u001b[0m\u001b[1;33m.\u001b[0m\u001b[0mflush\u001b[0m\u001b[1;33m(\u001b[0m\u001b[1;33m)\u001b[0m \u001b[1;31m# otherwise next return seems to have copy of error\u001b[0m\u001b[1;33m\u001b[0m\u001b[1;33m\u001b[0m\u001b[0m\n\u001b[1;32m--> 257\u001b[1;33m             \u001b[1;32mraise\u001b[0m \u001b[0mRInterpreterError\u001b[0m\u001b[1;33m(\u001b[0m\u001b[0mcode\u001b[0m\u001b[1;33m,\u001b[0m \u001b[0mstr\u001b[0m\u001b[1;33m(\u001b[0m\u001b[0mexception\u001b[0m\u001b[1;33m)\u001b[0m\u001b[1;33m,\u001b[0m \u001b[0mwarning_or_other_msg\u001b[0m\u001b[1;33m)\u001b[0m\u001b[1;33m\u001b[0m\u001b[1;33m\u001b[0m\u001b[0m\n\u001b[0m\u001b[0;32m    258\u001b[0m         \u001b[0mtext_output\u001b[0m \u001b[1;33m=\u001b[0m \u001b[0mself\u001b[0m\u001b[1;33m.\u001b[0m\u001b[0mflush\u001b[0m\u001b[1;33m(\u001b[0m\u001b[1;33m)\u001b[0m\u001b[1;33m\u001b[0m\u001b[1;33m\u001b[0m\u001b[0m\n",
      "\u001b[1;31mRInterpreterError\u001b[0m: Failed to parse and evaluate line 'ggsave(\"price_histogram.pdf\", width=6.5, height=3)\\n'.\nR error message: 'Error in ggsave(\"price_histogram.pdf\", width = 6.5, height = 3) : \\n  could not find function \"ggsave\"'",
      "\nDuring handling of the above exception, another exception occurred:\n",
      "\u001b[1;31mPermissionError\u001b[0m                           Traceback (most recent call last)",
      "\u001b[1;32m<ipython-input-27-b5c9543aad52>\u001b[0m in \u001b[0;36m<module>\u001b[1;34m\u001b[0m\n\u001b[1;32m----> 1\u001b[1;33m \u001b[0mget_ipython\u001b[0m\u001b[1;33m(\u001b[0m\u001b[1;33m)\u001b[0m\u001b[1;33m.\u001b[0m\u001b[0mrun_cell_magic\u001b[0m\u001b[1;33m(\u001b[0m\u001b[1;34m'R'\u001b[0m\u001b[1;33m,\u001b[0m \u001b[1;34m''\u001b[0m\u001b[1;33m,\u001b[0m \u001b[1;34m'ggsave(\"price_histogram.pdf\", width=6.5, height=3)\\n'\u001b[0m\u001b[1;33m)\u001b[0m\u001b[1;33m\u001b[0m\u001b[1;33m\u001b[0m\u001b[0m\n\u001b[0m",
      "\u001b[1;32mC:\\App\\Aconda\\lib\\site-packages\\IPython\\core\\interactiveshell.py\u001b[0m in \u001b[0;36mrun_cell_magic\u001b[1;34m(self, magic_name, line, cell)\u001b[0m\n\u001b[0;32m   2356\u001b[0m             \u001b[1;32mwith\u001b[0m \u001b[0mself\u001b[0m\u001b[1;33m.\u001b[0m\u001b[0mbuiltin_trap\u001b[0m\u001b[1;33m:\u001b[0m\u001b[1;33m\u001b[0m\u001b[1;33m\u001b[0m\u001b[0m\n\u001b[0;32m   2357\u001b[0m                 \u001b[0margs\u001b[0m \u001b[1;33m=\u001b[0m \u001b[1;33m(\u001b[0m\u001b[0mmagic_arg_s\u001b[0m\u001b[1;33m,\u001b[0m \u001b[0mcell\u001b[0m\u001b[1;33m)\u001b[0m\u001b[1;33m\u001b[0m\u001b[1;33m\u001b[0m\u001b[0m\n\u001b[1;32m-> 2358\u001b[1;33m                 \u001b[0mresult\u001b[0m \u001b[1;33m=\u001b[0m \u001b[0mfn\u001b[0m\u001b[1;33m(\u001b[0m\u001b[1;33m*\u001b[0m\u001b[0margs\u001b[0m\u001b[1;33m,\u001b[0m \u001b[1;33m**\u001b[0m\u001b[0mkwargs\u001b[0m\u001b[1;33m)\u001b[0m\u001b[1;33m\u001b[0m\u001b[1;33m\u001b[0m\u001b[0m\n\u001b[0m\u001b[0;32m   2359\u001b[0m             \u001b[1;32mreturn\u001b[0m \u001b[0mresult\u001b[0m\u001b[1;33m\u001b[0m\u001b[1;33m\u001b[0m\u001b[0m\n\u001b[0;32m   2360\u001b[0m \u001b[1;33m\u001b[0m\u001b[0m\n",
      "\u001b[1;32m<C:\\App\\Aconda\\lib\\site-packages\\decorator.py:decorator-gen-131>\u001b[0m in \u001b[0;36mR\u001b[1;34m(self, line, cell, local_ns)\u001b[0m\n",
      "\u001b[1;32mC:\\App\\Aconda\\lib\\site-packages\\IPython\\core\\magic.py\u001b[0m in \u001b[0;36m<lambda>\u001b[1;34m(f, *a, **k)\u001b[0m\n\u001b[0;32m    185\u001b[0m     \u001b[1;31m# but it's overkill for just that one bit of state.\u001b[0m\u001b[1;33m\u001b[0m\u001b[1;33m\u001b[0m\u001b[1;33m\u001b[0m\u001b[0m\n\u001b[0;32m    186\u001b[0m     \u001b[1;32mdef\u001b[0m \u001b[0mmagic_deco\u001b[0m\u001b[1;33m(\u001b[0m\u001b[0marg\u001b[0m\u001b[1;33m)\u001b[0m\u001b[1;33m:\u001b[0m\u001b[1;33m\u001b[0m\u001b[1;33m\u001b[0m\u001b[0m\n\u001b[1;32m--> 187\u001b[1;33m         \u001b[0mcall\u001b[0m \u001b[1;33m=\u001b[0m \u001b[1;32mlambda\u001b[0m \u001b[0mf\u001b[0m\u001b[1;33m,\u001b[0m \u001b[1;33m*\u001b[0m\u001b[0ma\u001b[0m\u001b[1;33m,\u001b[0m \u001b[1;33m**\u001b[0m\u001b[0mk\u001b[0m\u001b[1;33m:\u001b[0m \u001b[0mf\u001b[0m\u001b[1;33m(\u001b[0m\u001b[1;33m*\u001b[0m\u001b[0ma\u001b[0m\u001b[1;33m,\u001b[0m \u001b[1;33m**\u001b[0m\u001b[0mk\u001b[0m\u001b[1;33m)\u001b[0m\u001b[1;33m\u001b[0m\u001b[1;33m\u001b[0m\u001b[0m\n\u001b[0m\u001b[0;32m    188\u001b[0m \u001b[1;33m\u001b[0m\u001b[0m\n\u001b[0;32m    189\u001b[0m         \u001b[1;32mif\u001b[0m \u001b[0mcallable\u001b[0m\u001b[1;33m(\u001b[0m\u001b[0marg\u001b[0m\u001b[1;33m)\u001b[0m\u001b[1;33m:\u001b[0m\u001b[1;33m\u001b[0m\u001b[1;33m\u001b[0m\u001b[0m\n",
      "\u001b[1;32mC:\\App\\Aconda\\lib\\site-packages\\rpy2\\ipython\\rmagic.py\u001b[0m in \u001b[0;36mR\u001b[1;34m(self, line, cell, local_ns)\u001b[0m\n\u001b[0;32m    717\u001b[0m                 \u001b[0mprint\u001b[0m\u001b[1;33m(\u001b[0m\u001b[0me\u001b[0m\u001b[1;33m.\u001b[0m\u001b[0merr\u001b[0m\u001b[1;33m)\u001b[0m\u001b[1;33m\u001b[0m\u001b[1;33m\u001b[0m\u001b[0m\n\u001b[0;32m    718\u001b[0m             \u001b[1;32mif\u001b[0m \u001b[0mtmpd\u001b[0m\u001b[1;33m:\u001b[0m\u001b[1;33m\u001b[0m\u001b[1;33m\u001b[0m\u001b[0m\n\u001b[1;32m--> 719\u001b[1;33m                 \u001b[0mrmtree\u001b[0m\u001b[1;33m(\u001b[0m\u001b[0mtmpd\u001b[0m\u001b[1;33m)\u001b[0m\u001b[1;33m\u001b[0m\u001b[1;33m\u001b[0m\u001b[0m\n\u001b[0m\u001b[0;32m    720\u001b[0m             \u001b[1;32mreturn\u001b[0m\u001b[1;33m\u001b[0m\u001b[1;33m\u001b[0m\u001b[0m\n\u001b[0;32m    721\u001b[0m         \u001b[1;32mfinally\u001b[0m\u001b[1;33m:\u001b[0m\u001b[1;33m\u001b[0m\u001b[1;33m\u001b[0m\u001b[0m\n",
      "\u001b[1;32mC:\\App\\Aconda\\lib\\shutil.py\u001b[0m in \u001b[0;36mrmtree\u001b[1;34m(path, ignore_errors, onerror)\u001b[0m\n\u001b[0;32m    511\u001b[0m             \u001b[1;31m# can't continue even if onerror hook returns\u001b[0m\u001b[1;33m\u001b[0m\u001b[1;33m\u001b[0m\u001b[1;33m\u001b[0m\u001b[0m\n\u001b[0;32m    512\u001b[0m             \u001b[1;32mreturn\u001b[0m\u001b[1;33m\u001b[0m\u001b[1;33m\u001b[0m\u001b[0m\n\u001b[1;32m--> 513\u001b[1;33m         \u001b[1;32mreturn\u001b[0m \u001b[0m_rmtree_unsafe\u001b[0m\u001b[1;33m(\u001b[0m\u001b[0mpath\u001b[0m\u001b[1;33m,\u001b[0m \u001b[0monerror\u001b[0m\u001b[1;33m)\u001b[0m\u001b[1;33m\u001b[0m\u001b[1;33m\u001b[0m\u001b[0m\n\u001b[0m\u001b[0;32m    514\u001b[0m \u001b[1;33m\u001b[0m\u001b[0m\n\u001b[0;32m    515\u001b[0m \u001b[1;31m# Allow introspection of whether or not the hardening against symlink\u001b[0m\u001b[1;33m\u001b[0m\u001b[1;33m\u001b[0m\u001b[1;33m\u001b[0m\u001b[0m\n",
      "\u001b[1;32mC:\\App\\Aconda\\lib\\shutil.py\u001b[0m in \u001b[0;36m_rmtree_unsafe\u001b[1;34m(path, onerror)\u001b[0m\n\u001b[0;32m    395\u001b[0m                 \u001b[0mos\u001b[0m\u001b[1;33m.\u001b[0m\u001b[0munlink\u001b[0m\u001b[1;33m(\u001b[0m\u001b[0mfullname\u001b[0m\u001b[1;33m)\u001b[0m\u001b[1;33m\u001b[0m\u001b[1;33m\u001b[0m\u001b[0m\n\u001b[0;32m    396\u001b[0m             \u001b[1;32mexcept\u001b[0m \u001b[0mOSError\u001b[0m\u001b[1;33m:\u001b[0m\u001b[1;33m\u001b[0m\u001b[1;33m\u001b[0m\u001b[0m\n\u001b[1;32m--> 397\u001b[1;33m                 \u001b[0monerror\u001b[0m\u001b[1;33m(\u001b[0m\u001b[0mos\u001b[0m\u001b[1;33m.\u001b[0m\u001b[0munlink\u001b[0m\u001b[1;33m,\u001b[0m \u001b[0mfullname\u001b[0m\u001b[1;33m,\u001b[0m \u001b[0msys\u001b[0m\u001b[1;33m.\u001b[0m\u001b[0mexc_info\u001b[0m\u001b[1;33m(\u001b[0m\u001b[1;33m)\u001b[0m\u001b[1;33m)\u001b[0m\u001b[1;33m\u001b[0m\u001b[1;33m\u001b[0m\u001b[0m\n\u001b[0m\u001b[0;32m    398\u001b[0m     \u001b[1;32mtry\u001b[0m\u001b[1;33m:\u001b[0m\u001b[1;33m\u001b[0m\u001b[1;33m\u001b[0m\u001b[0m\n\u001b[0;32m    399\u001b[0m         \u001b[0mos\u001b[0m\u001b[1;33m.\u001b[0m\u001b[0mrmdir\u001b[0m\u001b[1;33m(\u001b[0m\u001b[0mpath\u001b[0m\u001b[1;33m)\u001b[0m\u001b[1;33m\u001b[0m\u001b[1;33m\u001b[0m\u001b[0m\n",
      "\u001b[1;32mC:\\App\\Aconda\\lib\\shutil.py\u001b[0m in \u001b[0;36m_rmtree_unsafe\u001b[1;34m(path, onerror)\u001b[0m\n\u001b[0;32m    393\u001b[0m         \u001b[1;32melse\u001b[0m\u001b[1;33m:\u001b[0m\u001b[1;33m\u001b[0m\u001b[1;33m\u001b[0m\u001b[0m\n\u001b[0;32m    394\u001b[0m             \u001b[1;32mtry\u001b[0m\u001b[1;33m:\u001b[0m\u001b[1;33m\u001b[0m\u001b[1;33m\u001b[0m\u001b[0m\n\u001b[1;32m--> 395\u001b[1;33m                 \u001b[0mos\u001b[0m\u001b[1;33m.\u001b[0m\u001b[0munlink\u001b[0m\u001b[1;33m(\u001b[0m\u001b[0mfullname\u001b[0m\u001b[1;33m)\u001b[0m\u001b[1;33m\u001b[0m\u001b[1;33m\u001b[0m\u001b[0m\n\u001b[0m\u001b[0;32m    396\u001b[0m             \u001b[1;32mexcept\u001b[0m \u001b[0mOSError\u001b[0m\u001b[1;33m:\u001b[0m\u001b[1;33m\u001b[0m\u001b[1;33m\u001b[0m\u001b[0m\n\u001b[0;32m    397\u001b[0m                 \u001b[0monerror\u001b[0m\u001b[1;33m(\u001b[0m\u001b[0mos\u001b[0m\u001b[1;33m.\u001b[0m\u001b[0munlink\u001b[0m\u001b[1;33m,\u001b[0m \u001b[0mfullname\u001b[0m\u001b[1;33m,\u001b[0m \u001b[0msys\u001b[0m\u001b[1;33m.\u001b[0m\u001b[0mexc_info\u001b[0m\u001b[1;33m(\u001b[0m\u001b[1;33m)\u001b[0m\u001b[1;33m)\u001b[0m\u001b[1;33m\u001b[0m\u001b[1;33m\u001b[0m\u001b[0m\n",
      "\u001b[1;31mPermissionError\u001b[0m: [WinError 32] 另一个程序正在使用此文件，进程无法访问。: 'C:\\\\Users\\\\szdxl\\\\AppData\\\\Local\\\\Temp\\\\tmp_js6k0j0\\\\Rplots001.png'"
     ]
    }
   ],
   "source": [
    "%%R\n",
    "ggsave(\"price_histogram.pdf\", width=6.5, height=3)"
   ]
  },
  {
   "cell_type": "markdown",
   "metadata": {},
   "source": [
    "## Filtering competitor reviews\n",
    "**Task 6:** Write a function called `filter_reviews` to help you find all the reviews that match the products which match your key phrase query.  This function should take a `products` argument and return a data frame with one review per row and three columns: `product.id`, `rating` (on the 5-star scale), and `review` (text).\n",
    "\n",
    "*Hints:*\n",
    "\n",
    "*1) There are lots of really inefficient ways to do this.  If running this function takes more than two minutes, you're doing something wrong.*\n",
    "\n",
    "*2) I recommend testing things out on data subsamples so that you're sure of the efficiency of your code.  (For example, you can return after the first matching review).*\n",
    "\n",
    "*3) Decoding the json on each line isn't really necessary; try doing it only for the reviews that match your product list.*\n",
    "\n",
    "*4) String manipulation with `split` is powerful.*"
   ]
  },
  {
   "cell_type": "code",
   "execution_count": 14,
   "metadata": {},
   "outputs": [],
   "source": [
    "# %load /data/Assignment-2/Task6.py\n",
    "from demjson import decode\n",
    "def filter_reviews(products):\n",
    "    df = pd.DataFrame({\"product.id\": [], \"rating\": [], \"review\": []})\n",
    "    f = open(\"reviews.json\")\n",
    "    prods = set(products[\"product.id\"])\n",
    "    for line in f:\n",
    "        line=str.lower(line)\n",
    "        id = line.split(':')[2].split(',')[0].strip().strip('\"')\n",
    "        if id in prods:\n",
    "            review = decode(line.strip())\n",
    "            d = pd.DataFrame({\"product.id\": [review['asin']], \\\n",
    "                              \"rating\": [review['overall']], \\\n",
    "                              \"review\": [review['reviewtext']]})\n",
    "            df = df.append(d, ignore_index=True)\n",
    "    return df\n"
   ]
  },
  {
   "cell_type": "markdown",
   "metadata": {},
   "source": [
    "Now filter reviews by the produts of interest found in Task 4."
   ]
  },
  {
   "cell_type": "code",
   "execution_count": 17,
   "metadata": {},
   "outputs": [],
   "source": [
    "filter_reviews(products)\n",
    "filter_reviews(products).to_csv(\"reviews.csv\",index=False,sep=',')"
   ]
  },
  {
   "cell_type": "markdown",
   "metadata": {},
   "source": [
    "**Task 7:** Summarize the reviews into a data frame called `review_summaries` with three columns: `product.id`, `count` for the number of reviews, and `ave.rating` for the mean rating."
   ]
  },
  {
   "cell_type": "code",
   "execution_count": 40,
   "metadata": {},
   "outputs": [
    {
     "name": "stdout",
     "output_type": "stream",
     "text": [
      "    product.id  count  avg.rating\n",
      "0   b001aan4pw    146    3.890411\n",
      "1   b001aaozhi     88    4.238636\n",
      "2   b001qr6fn2      1    2.000000\n",
      "3   b001r4i74e     63    4.031746\n",
      "4   b001r4kb3e      2    4.500000\n",
      "5   b001r4kb66      3    4.666667\n",
      "6   b002djtmsw     68    3.926471\n",
      "7   b002djv83y    101    3.732673\n",
      "8   b0039mzbfk      6    4.000000\n",
      "9   b003rae19q    637    3.444270\n",
      "10  b003rapakk     74    3.513514\n",
      "11  b003to56f8     68    3.617647\n",
      "12  b003to56fi     38    3.526316\n",
      "13  b003unl14s     12    4.250000\n",
      "14  b004mf1e7m      2    2.000000\n",
      "15  b004wkkrts      6    4.833333\n",
      "16  b0050affwi     37    4.162162\n",
      "17  b0053uemho      1    5.000000\n",
      "18  b0055uijhg      1    5.000000\n",
      "19  b005a0b6ks      9    3.222222\n",
      "20  b007jus330     27    4.074074\n",
      "21  b008ysguv8      4    4.000000\n",
      "22  b008zxxx2q     47    2.659574\n",
      "23  b00cgtlovw      1    1.000000\n",
      "24  b00cvtl3bs      1    1.000000\n",
      "25  b00cx49v38      1    1.000000\n",
      "26  b00fg38l16    214    3.200935\n",
      "27  b00gkinxtg      5    3.600000\n",
      "28  b00gkinxuu      6    2.333333\n",
      "29  b00l37yp3m      1    1.000000\n"
     ]
    }
   ],
   "source": [
    "review_summaries = filter_reviews(products).groupby('product.id')\\\n",
    "                    .agg({'review':'count','rating':'mean'})\\\n",
    "                    .rename(columns={'review':'count','rating':'avg.rating'})\\\n",
    "                    .reset_index()\n",
    "print(review_summaries)"
   ]
  },
  {
   "cell_type": "markdown",
   "metadata": {},
   "source": [
    "**Task 8:** Merge `review_summaries` with `products` on the `product.id` variable."
   ]
  },
  {
   "cell_type": "code",
   "execution_count": 41,
   "metadata": {},
   "outputs": [
    {
     "data": {
      "text/html": [
       "<div>\n",
       "<style scoped>\n",
       "    .dataframe tbody tr th:only-of-type {\n",
       "        vertical-align: middle;\n",
       "    }\n",
       "\n",
       "    .dataframe tbody tr th {\n",
       "        vertical-align: top;\n",
       "    }\n",
       "\n",
       "    .dataframe thead th {\n",
       "        text-align: right;\n",
       "    }\n",
       "</style>\n",
       "<table border=\"1\" class=\"dataframe\">\n",
       "  <thead>\n",
       "    <tr style=\"text-align: right;\">\n",
       "      <th></th>\n",
       "      <th>product.id</th>\n",
       "      <th>count</th>\n",
       "      <th>avg.rating</th>\n",
       "      <th>price</th>\n",
       "    </tr>\n",
       "  </thead>\n",
       "  <tbody>\n",
       "    <tr>\n",
       "      <th>0</th>\n",
       "      <td>b001aan4pw</td>\n",
       "      <td>146</td>\n",
       "      <td>3.890411</td>\n",
       "      <td>289.99</td>\n",
       "    </tr>\n",
       "    <tr>\n",
       "      <th>1</th>\n",
       "      <td>b001aaozhi</td>\n",
       "      <td>88</td>\n",
       "      <td>4.238636</td>\n",
       "      <td>289.99</td>\n",
       "    </tr>\n",
       "    <tr>\n",
       "      <th>2</th>\n",
       "      <td>b001qr6fn2</td>\n",
       "      <td>1</td>\n",
       "      <td>2.000000</td>\n",
       "      <td>117.57</td>\n",
       "    </tr>\n",
       "    <tr>\n",
       "      <th>3</th>\n",
       "      <td>b001r4i74e</td>\n",
       "      <td>63</td>\n",
       "      <td>4.031746</td>\n",
       "      <td>5.76</td>\n",
       "    </tr>\n",
       "    <tr>\n",
       "      <th>4</th>\n",
       "      <td>b001r4kb3e</td>\n",
       "      <td>2</td>\n",
       "      <td>4.500000</td>\n",
       "      <td>17.06</td>\n",
       "    </tr>\n",
       "    <tr>\n",
       "      <th>5</th>\n",
       "      <td>b001r4kb66</td>\n",
       "      <td>3</td>\n",
       "      <td>4.666667</td>\n",
       "      <td>17.06</td>\n",
       "    </tr>\n",
       "    <tr>\n",
       "      <th>6</th>\n",
       "      <td>b002djtmsw</td>\n",
       "      <td>68</td>\n",
       "      <td>3.926471</td>\n",
       "      <td>117.57</td>\n",
       "    </tr>\n",
       "    <tr>\n",
       "      <th>7</th>\n",
       "      <td>b002djv83y</td>\n",
       "      <td>101</td>\n",
       "      <td>3.732673</td>\n",
       "      <td>289.99</td>\n",
       "    </tr>\n",
       "    <tr>\n",
       "      <th>8</th>\n",
       "      <td>b0039mzbfk</td>\n",
       "      <td>6</td>\n",
       "      <td>4.000000</td>\n",
       "      <td>117.57</td>\n",
       "    </tr>\n",
       "    <tr>\n",
       "      <th>9</th>\n",
       "      <td>b003rae19q</td>\n",
       "      <td>637</td>\n",
       "      <td>3.444270</td>\n",
       "      <td>4.47</td>\n",
       "    </tr>\n",
       "    <tr>\n",
       "      <th>10</th>\n",
       "      <td>b003rapakk</td>\n",
       "      <td>74</td>\n",
       "      <td>3.513514</td>\n",
       "      <td>349.99</td>\n",
       "    </tr>\n",
       "    <tr>\n",
       "      <th>11</th>\n",
       "      <td>b003to56f8</td>\n",
       "      <td>68</td>\n",
       "      <td>3.617647</td>\n",
       "      <td>25.49</td>\n",
       "    </tr>\n",
       "    <tr>\n",
       "      <th>12</th>\n",
       "      <td>b003to56fi</td>\n",
       "      <td>38</td>\n",
       "      <td>3.526316</td>\n",
       "      <td>19.50</td>\n",
       "    </tr>\n",
       "    <tr>\n",
       "      <th>13</th>\n",
       "      <td>b003unl14s</td>\n",
       "      <td>12</td>\n",
       "      <td>4.250000</td>\n",
       "      <td>199.63</td>\n",
       "    </tr>\n",
       "    <tr>\n",
       "      <th>14</th>\n",
       "      <td>b004mf1e7m</td>\n",
       "      <td>2</td>\n",
       "      <td>2.000000</td>\n",
       "      <td>4.47</td>\n",
       "    </tr>\n",
       "    <tr>\n",
       "      <th>15</th>\n",
       "      <td>b004wkkrts</td>\n",
       "      <td>6</td>\n",
       "      <td>4.833333</td>\n",
       "      <td>23.52</td>\n",
       "    </tr>\n",
       "    <tr>\n",
       "      <th>16</th>\n",
       "      <td>b0050affwi</td>\n",
       "      <td>37</td>\n",
       "      <td>4.162162</td>\n",
       "      <td>132.13</td>\n",
       "    </tr>\n",
       "    <tr>\n",
       "      <th>17</th>\n",
       "      <td>b0053uemho</td>\n",
       "      <td>1</td>\n",
       "      <td>5.000000</td>\n",
       "      <td>4.47</td>\n",
       "    </tr>\n",
       "    <tr>\n",
       "      <th>18</th>\n",
       "      <td>b0055uijhg</td>\n",
       "      <td>1</td>\n",
       "      <td>5.000000</td>\n",
       "      <td>4.47</td>\n",
       "    </tr>\n",
       "    <tr>\n",
       "      <th>19</th>\n",
       "      <td>b005a0b6ks</td>\n",
       "      <td>9</td>\n",
       "      <td>3.222222</td>\n",
       "      <td>4.47</td>\n",
       "    </tr>\n",
       "    <tr>\n",
       "      <th>20</th>\n",
       "      <td>b007jus330</td>\n",
       "      <td>27</td>\n",
       "      <td>4.074074</td>\n",
       "      <td>19.59</td>\n",
       "    </tr>\n",
       "    <tr>\n",
       "      <th>21</th>\n",
       "      <td>b008ysguv8</td>\n",
       "      <td>4</td>\n",
       "      <td>4.000000</td>\n",
       "      <td>9.99</td>\n",
       "    </tr>\n",
       "    <tr>\n",
       "      <th>22</th>\n",
       "      <td>b008zxxx2q</td>\n",
       "      <td>47</td>\n",
       "      <td>2.659574</td>\n",
       "      <td>9.79</td>\n",
       "    </tr>\n",
       "    <tr>\n",
       "      <th>23</th>\n",
       "      <td>b00cgtlovw</td>\n",
       "      <td>1</td>\n",
       "      <td>1.000000</td>\n",
       "      <td>255.83</td>\n",
       "    </tr>\n",
       "    <tr>\n",
       "      <th>24</th>\n",
       "      <td>b00cvtl3bs</td>\n",
       "      <td>1</td>\n",
       "      <td>1.000000</td>\n",
       "      <td>183.21</td>\n",
       "    </tr>\n",
       "    <tr>\n",
       "      <th>25</th>\n",
       "      <td>b00cx49v38</td>\n",
       "      <td>1</td>\n",
       "      <td>1.000000</td>\n",
       "      <td>111.00</td>\n",
       "    </tr>\n",
       "    <tr>\n",
       "      <th>26</th>\n",
       "      <td>b00fg38l16</td>\n",
       "      <td>214</td>\n",
       "      <td>3.200935</td>\n",
       "      <td>149.95</td>\n",
       "    </tr>\n",
       "    <tr>\n",
       "      <th>27</th>\n",
       "      <td>b00gkinxtg</td>\n",
       "      <td>5</td>\n",
       "      <td>3.600000</td>\n",
       "      <td>10.68</td>\n",
       "    </tr>\n",
       "    <tr>\n",
       "      <th>28</th>\n",
       "      <td>b00gkinxuu</td>\n",
       "      <td>6</td>\n",
       "      <td>2.333333</td>\n",
       "      <td>10.68</td>\n",
       "    </tr>\n",
       "    <tr>\n",
       "      <th>29</th>\n",
       "      <td>b00l37yp3m</td>\n",
       "      <td>1</td>\n",
       "      <td>1.000000</td>\n",
       "      <td>193.99</td>\n",
       "    </tr>\n",
       "  </tbody>\n",
       "</table>\n",
       "</div>"
      ],
      "text/plain": [
       "    product.id  count  avg.rating   price\n",
       "0   b001aan4pw    146    3.890411  289.99\n",
       "1   b001aaozhi     88    4.238636  289.99\n",
       "2   b001qr6fn2      1    2.000000  117.57\n",
       "3   b001r4i74e     63    4.031746    5.76\n",
       "4   b001r4kb3e      2    4.500000   17.06\n",
       "5   b001r4kb66      3    4.666667   17.06\n",
       "6   b002djtmsw     68    3.926471  117.57\n",
       "7   b002djv83y    101    3.732673  289.99\n",
       "8   b0039mzbfk      6    4.000000  117.57\n",
       "9   b003rae19q    637    3.444270    4.47\n",
       "10  b003rapakk     74    3.513514  349.99\n",
       "11  b003to56f8     68    3.617647   25.49\n",
       "12  b003to56fi     38    3.526316   19.50\n",
       "13  b003unl14s     12    4.250000  199.63\n",
       "14  b004mf1e7m      2    2.000000    4.47\n",
       "15  b004wkkrts      6    4.833333   23.52\n",
       "16  b0050affwi     37    4.162162  132.13\n",
       "17  b0053uemho      1    5.000000    4.47\n",
       "18  b0055uijhg      1    5.000000    4.47\n",
       "19  b005a0b6ks      9    3.222222    4.47\n",
       "20  b007jus330     27    4.074074   19.59\n",
       "21  b008ysguv8      4    4.000000    9.99\n",
       "22  b008zxxx2q     47    2.659574    9.79\n",
       "23  b00cgtlovw      1    1.000000  255.83\n",
       "24  b00cvtl3bs      1    1.000000  183.21\n",
       "25  b00cx49v38      1    1.000000  111.00\n",
       "26  b00fg38l16    214    3.200935  149.95\n",
       "27  b00gkinxtg      5    3.600000   10.68\n",
       "28  b00gkinxuu      6    2.333333   10.68\n",
       "29  b00l37yp3m      1    1.000000  193.99"
      ]
     },
     "execution_count": 41,
     "metadata": {},
     "output_type": "execute_result"
    }
   ],
   "source": [
    "review_summaries = review_summaries.merge(products,left_on='product.id', right_on='product.id')\n",
    "review_summaries"
   ]
  },
  {
   "cell_type": "code",
   "execution_count": 43,
   "metadata": {},
   "outputs": [],
   "source": [
    "review_summaries.to_csv('summary.csv', index=False, sep=',')"
   ]
  },
  {
   "cell_type": "markdown",
   "metadata": {},
   "source": [
    "**Task 9:** Using `ggplot`, Plot a scatterplot of the review summaries with price on the x-axis, the average rating on the y axis, and the size of each point being the number of reviews.  Add labels for the product ids, but fix the label size to be the same for all products.\n",
    "\n",
    "*Hints:*\n",
    "\n",
    "*1) You'll want to start the cell with `%%R -i review_summaries`.*\n",
    "\n",
    "*2) You may want to use `scale_size_continuous(range = c(0.1,10)) + geom_text(size=1)` or similar.*"
   ]
  },
  {
   "cell_type": "code",
   "execution_count": 51,
   "metadata": {
    "scrolled": true
   },
   "outputs": [
    {
     "name": "stdout",
     "output_type": "stream",
     "text": [
      "\n",
      "Error in ggplot(data = review_summaries, aes(x = price, y = avg.rating,  : \n",
      "  could not find function \"ggplot\"\n"
     ]
    },
    {
     "name": "stderr",
     "output_type": "stream",
     "text": [
      "C:\\App\\Aconda\\lib\\site-packages\\rpy2\\robjects\\pandas2ri.py:191: FutureWarning: from_items is deprecated. Please use DataFrame.from_dict(dict(items), ...) instead. DataFrame.from_dict(OrderedDict(items)) may be used to preserve the key order.\n",
      "  res = PandasDataFrame.from_items(items)\n"
     ]
    },
    {
     "ename": "PermissionError",
     "evalue": "[WinError 32] 另一个程序正在使用此文件，进程无法访问。: 'C:\\\\Users\\\\szdxl\\\\AppData\\\\Local\\\\Temp\\\\tmpapp3jrcr\\\\Rplots001.png'",
     "output_type": "error",
     "traceback": [
      "\u001b[1;31m---------------------------------------------------------------------------\u001b[0m",
      "\u001b[1;31mRRuntimeError\u001b[0m                             Traceback (most recent call last)",
      "\u001b[1;32mC:\\App\\Aconda\\lib\\site-packages\\rpy2\\ipython\\rmagic.py\u001b[0m in \u001b[0;36meval\u001b[1;34m(self, code)\u001b[0m\n\u001b[0;32m    253\u001b[0m             \u001b[1;31m# Need the newline in case the last line in code is a comment\u001b[0m\u001b[1;33m\u001b[0m\u001b[1;33m\u001b[0m\u001b[1;33m\u001b[0m\u001b[0m\n\u001b[1;32m--> 254\u001b[1;33m             \u001b[0mvalue\u001b[0m\u001b[1;33m,\u001b[0m \u001b[0mvisible\u001b[0m \u001b[1;33m=\u001b[0m \u001b[0mro\u001b[0m\u001b[1;33m.\u001b[0m\u001b[0mr\u001b[0m\u001b[1;33m(\u001b[0m\u001b[1;34m\"withVisible({%s\\n})\"\u001b[0m \u001b[1;33m%\u001b[0m \u001b[0mcode\u001b[0m\u001b[1;33m)\u001b[0m\u001b[1;33m\u001b[0m\u001b[1;33m\u001b[0m\u001b[0m\n\u001b[0m\u001b[0;32m    255\u001b[0m         \u001b[1;32mexcept\u001b[0m \u001b[1;33m(\u001b[0m\u001b[0mri\u001b[0m\u001b[1;33m.\u001b[0m\u001b[0mRRuntimeError\u001b[0m\u001b[1;33m,\u001b[0m \u001b[0mValueError\u001b[0m\u001b[1;33m)\u001b[0m \u001b[1;32mas\u001b[0m \u001b[0mexception\u001b[0m\u001b[1;33m:\u001b[0m\u001b[1;33m\u001b[0m\u001b[1;33m\u001b[0m\u001b[0m\n",
      "\u001b[1;32mC:\\App\\Aconda\\lib\\site-packages\\rpy2\\robjects\\__init__.py\u001b[0m in \u001b[0;36m__call__\u001b[1;34m(self, string)\u001b[0m\n\u001b[0;32m    351\u001b[0m         \u001b[0mp\u001b[0m \u001b[1;33m=\u001b[0m \u001b[0m_rparse\u001b[0m\u001b[1;33m(\u001b[0m\u001b[0mtext\u001b[0m\u001b[1;33m=\u001b[0m\u001b[0mStrSexpVector\u001b[0m\u001b[1;33m(\u001b[0m\u001b[1;33m(\u001b[0m\u001b[0mstring\u001b[0m\u001b[1;33m,\u001b[0m\u001b[1;33m)\u001b[0m\u001b[1;33m)\u001b[0m\u001b[1;33m)\u001b[0m\u001b[1;33m\u001b[0m\u001b[1;33m\u001b[0m\u001b[0m\n\u001b[1;32m--> 352\u001b[1;33m         \u001b[0mres\u001b[0m \u001b[1;33m=\u001b[0m \u001b[0mself\u001b[0m\u001b[1;33m.\u001b[0m\u001b[0meval\u001b[0m\u001b[1;33m(\u001b[0m\u001b[0mp\u001b[0m\u001b[1;33m)\u001b[0m\u001b[1;33m\u001b[0m\u001b[1;33m\u001b[0m\u001b[0m\n\u001b[0m\u001b[0;32m    353\u001b[0m         \u001b[1;32mreturn\u001b[0m \u001b[0mconversion\u001b[0m\u001b[1;33m.\u001b[0m\u001b[0mri2py\u001b[0m\u001b[1;33m(\u001b[0m\u001b[0mres\u001b[0m\u001b[1;33m)\u001b[0m\u001b[1;33m\u001b[0m\u001b[1;33m\u001b[0m\u001b[0m\n",
      "\u001b[1;32mC:\\App\\Aconda\\lib\\site-packages\\rpy2\\robjects\\functions.py\u001b[0m in \u001b[0;36m__call__\u001b[1;34m(self, *args, **kwargs)\u001b[0m\n\u001b[0;32m    177\u001b[0m                 \u001b[0mkwargs\u001b[0m\u001b[1;33m[\u001b[0m\u001b[0mr_k\u001b[0m\u001b[1;33m]\u001b[0m \u001b[1;33m=\u001b[0m \u001b[0mv\u001b[0m\u001b[1;33m\u001b[0m\u001b[1;33m\u001b[0m\u001b[0m\n\u001b[1;32m--> 178\u001b[1;33m         \u001b[1;32mreturn\u001b[0m \u001b[0msuper\u001b[0m\u001b[1;33m(\u001b[0m\u001b[0mSignatureTranslatedFunction\u001b[0m\u001b[1;33m,\u001b[0m \u001b[0mself\u001b[0m\u001b[1;33m)\u001b[0m\u001b[1;33m.\u001b[0m\u001b[0m__call__\u001b[0m\u001b[1;33m(\u001b[0m\u001b[1;33m*\u001b[0m\u001b[0margs\u001b[0m\u001b[1;33m,\u001b[0m \u001b[1;33m**\u001b[0m\u001b[0mkwargs\u001b[0m\u001b[1;33m)\u001b[0m\u001b[1;33m\u001b[0m\u001b[1;33m\u001b[0m\u001b[0m\n\u001b[0m\u001b[0;32m    179\u001b[0m \u001b[1;33m\u001b[0m\u001b[0m\n",
      "\u001b[1;32mC:\\App\\Aconda\\lib\\site-packages\\rpy2\\robjects\\functions.py\u001b[0m in \u001b[0;36m__call__\u001b[1;34m(self, *args, **kwargs)\u001b[0m\n\u001b[0;32m    105\u001b[0m             \u001b[0mnew_kwargs\u001b[0m\u001b[1;33m[\u001b[0m\u001b[0mk\u001b[0m\u001b[1;33m]\u001b[0m \u001b[1;33m=\u001b[0m \u001b[0mconversion\u001b[0m\u001b[1;33m.\u001b[0m\u001b[0mpy2ri\u001b[0m\u001b[1;33m(\u001b[0m\u001b[0mv\u001b[0m\u001b[1;33m)\u001b[0m\u001b[1;33m\u001b[0m\u001b[1;33m\u001b[0m\u001b[0m\n\u001b[1;32m--> 106\u001b[1;33m         \u001b[0mres\u001b[0m \u001b[1;33m=\u001b[0m \u001b[0msuper\u001b[0m\u001b[1;33m(\u001b[0m\u001b[0mFunction\u001b[0m\u001b[1;33m,\u001b[0m \u001b[0mself\u001b[0m\u001b[1;33m)\u001b[0m\u001b[1;33m.\u001b[0m\u001b[0m__call__\u001b[0m\u001b[1;33m(\u001b[0m\u001b[1;33m*\u001b[0m\u001b[0mnew_args\u001b[0m\u001b[1;33m,\u001b[0m \u001b[1;33m**\u001b[0m\u001b[0mnew_kwargs\u001b[0m\u001b[1;33m)\u001b[0m\u001b[1;33m\u001b[0m\u001b[1;33m\u001b[0m\u001b[0m\n\u001b[0m\u001b[0;32m    107\u001b[0m         \u001b[0mres\u001b[0m \u001b[1;33m=\u001b[0m \u001b[0mconversion\u001b[0m\u001b[1;33m.\u001b[0m\u001b[0mri2ro\u001b[0m\u001b[1;33m(\u001b[0m\u001b[0mres\u001b[0m\u001b[1;33m)\u001b[0m\u001b[1;33m\u001b[0m\u001b[1;33m\u001b[0m\u001b[0m\n",
      "\u001b[1;31mRRuntimeError\u001b[0m: Error in ggplot(data = review_summaries, aes(x = price, y = avg.rating,  : \n  could not find function \"ggplot\"\n",
      "\nDuring handling of the above exception, another exception occurred:\n",
      "\u001b[1;31mRInterpreterError\u001b[0m                         Traceback (most recent call last)",
      "\u001b[1;32mC:\\App\\Aconda\\lib\\site-packages\\rpy2\\ipython\\rmagic.py\u001b[0m in \u001b[0;36mR\u001b[1;34m(self, line, cell, local_ns)\u001b[0m\n\u001b[0;32m    703\u001b[0m             \u001b[1;32melse\u001b[0m\u001b[1;33m:\u001b[0m\u001b[1;33m\u001b[0m\u001b[1;33m\u001b[0m\u001b[0m\n\u001b[1;32m--> 704\u001b[1;33m                 \u001b[0mtext_result\u001b[0m\u001b[1;33m,\u001b[0m \u001b[0mresult\u001b[0m\u001b[1;33m,\u001b[0m \u001b[0mvisible\u001b[0m \u001b[1;33m=\u001b[0m \u001b[0mself\u001b[0m\u001b[1;33m.\u001b[0m\u001b[0meval\u001b[0m\u001b[1;33m(\u001b[0m\u001b[0mcode\u001b[0m\u001b[1;33m)\u001b[0m\u001b[1;33m\u001b[0m\u001b[1;33m\u001b[0m\u001b[0m\n\u001b[0m\u001b[0;32m    705\u001b[0m                 \u001b[0mtext_output\u001b[0m \u001b[1;33m+=\u001b[0m \u001b[0mtext_result\u001b[0m\u001b[1;33m\u001b[0m\u001b[1;33m\u001b[0m\u001b[0m\n",
      "\u001b[1;32mC:\\App\\Aconda\\lib\\site-packages\\rpy2\\ipython\\rmagic.py\u001b[0m in \u001b[0;36meval\u001b[1;34m(self, code)\u001b[0m\n\u001b[0;32m    256\u001b[0m             \u001b[0mwarning_or_other_msg\u001b[0m \u001b[1;33m=\u001b[0m \u001b[0mself\u001b[0m\u001b[1;33m.\u001b[0m\u001b[0mflush\u001b[0m\u001b[1;33m(\u001b[0m\u001b[1;33m)\u001b[0m \u001b[1;31m# otherwise next return seems to have copy of error\u001b[0m\u001b[1;33m\u001b[0m\u001b[1;33m\u001b[0m\u001b[0m\n\u001b[1;32m--> 257\u001b[1;33m             \u001b[1;32mraise\u001b[0m \u001b[0mRInterpreterError\u001b[0m\u001b[1;33m(\u001b[0m\u001b[0mcode\u001b[0m\u001b[1;33m,\u001b[0m \u001b[0mstr\u001b[0m\u001b[1;33m(\u001b[0m\u001b[0mexception\u001b[0m\u001b[1;33m)\u001b[0m\u001b[1;33m,\u001b[0m \u001b[0mwarning_or_other_msg\u001b[0m\u001b[1;33m)\u001b[0m\u001b[1;33m\u001b[0m\u001b[1;33m\u001b[0m\u001b[0m\n\u001b[0m\u001b[0;32m    258\u001b[0m         \u001b[0mtext_output\u001b[0m \u001b[1;33m=\u001b[0m \u001b[0mself\u001b[0m\u001b[1;33m.\u001b[0m\u001b[0mflush\u001b[0m\u001b[1;33m(\u001b[0m\u001b[1;33m)\u001b[0m\u001b[1;33m\u001b[0m\u001b[1;33m\u001b[0m\u001b[0m\n",
      "\u001b[1;31mRInterpreterError\u001b[0m: Failed to parse and evaluate line \"ggplot(data=review_summaries,aes(x=price,y=avg.rating,label=product.id))+geom_point(aes(size = count))+scale_size_continuous(range = c(0.1,10)) + geom_text(size=3,color='red') \\n\".\nR error message: 'Error in ggplot(data = review_summaries, aes(x = price, y = avg.rating,  : \\n  could not find function \"ggplot\"'",
      "\nDuring handling of the above exception, another exception occurred:\n",
      "\u001b[1;31mPermissionError\u001b[0m                           Traceback (most recent call last)",
      "\u001b[1;32m<ipython-input-51-7f9dd79e1fdc>\u001b[0m in \u001b[0;36m<module>\u001b[1;34m\u001b[0m\n\u001b[1;32m----> 1\u001b[1;33m \u001b[0mget_ipython\u001b[0m\u001b[1;33m(\u001b[0m\u001b[1;33m)\u001b[0m\u001b[1;33m.\u001b[0m\u001b[0mrun_cell_magic\u001b[0m\u001b[1;33m(\u001b[0m\u001b[1;34m'R'\u001b[0m\u001b[1;33m,\u001b[0m \u001b[1;34m'-i review_summaries'\u001b[0m\u001b[1;33m,\u001b[0m \u001b[1;34m\"ggplot(data=review_summaries,aes(x=price,y=avg.rating,label=product.id))+geom_point(aes(size = count))+scale_size_continuous(range = c(0.1,10)) + geom_text(size=3,color='red') \\n\"\u001b[0m\u001b[1;33m)\u001b[0m\u001b[1;33m\u001b[0m\u001b[1;33m\u001b[0m\u001b[0m\n\u001b[0m",
      "\u001b[1;32mC:\\App\\Aconda\\lib\\site-packages\\IPython\\core\\interactiveshell.py\u001b[0m in \u001b[0;36mrun_cell_magic\u001b[1;34m(self, magic_name, line, cell)\u001b[0m\n\u001b[0;32m   2356\u001b[0m             \u001b[1;32mwith\u001b[0m \u001b[0mself\u001b[0m\u001b[1;33m.\u001b[0m\u001b[0mbuiltin_trap\u001b[0m\u001b[1;33m:\u001b[0m\u001b[1;33m\u001b[0m\u001b[1;33m\u001b[0m\u001b[0m\n\u001b[0;32m   2357\u001b[0m                 \u001b[0margs\u001b[0m \u001b[1;33m=\u001b[0m \u001b[1;33m(\u001b[0m\u001b[0mmagic_arg_s\u001b[0m\u001b[1;33m,\u001b[0m \u001b[0mcell\u001b[0m\u001b[1;33m)\u001b[0m\u001b[1;33m\u001b[0m\u001b[1;33m\u001b[0m\u001b[0m\n\u001b[1;32m-> 2358\u001b[1;33m                 \u001b[0mresult\u001b[0m \u001b[1;33m=\u001b[0m \u001b[0mfn\u001b[0m\u001b[1;33m(\u001b[0m\u001b[1;33m*\u001b[0m\u001b[0margs\u001b[0m\u001b[1;33m,\u001b[0m \u001b[1;33m**\u001b[0m\u001b[0mkwargs\u001b[0m\u001b[1;33m)\u001b[0m\u001b[1;33m\u001b[0m\u001b[1;33m\u001b[0m\u001b[0m\n\u001b[0m\u001b[0;32m   2359\u001b[0m             \u001b[1;32mreturn\u001b[0m \u001b[0mresult\u001b[0m\u001b[1;33m\u001b[0m\u001b[1;33m\u001b[0m\u001b[0m\n\u001b[0;32m   2360\u001b[0m \u001b[1;33m\u001b[0m\u001b[0m\n",
      "\u001b[1;32m<C:\\App\\Aconda\\lib\\site-packages\\decorator.py:decorator-gen-131>\u001b[0m in \u001b[0;36mR\u001b[1;34m(self, line, cell, local_ns)\u001b[0m\n",
      "\u001b[1;32mC:\\App\\Aconda\\lib\\site-packages\\IPython\\core\\magic.py\u001b[0m in \u001b[0;36m<lambda>\u001b[1;34m(f, *a, **k)\u001b[0m\n\u001b[0;32m    185\u001b[0m     \u001b[1;31m# but it's overkill for just that one bit of state.\u001b[0m\u001b[1;33m\u001b[0m\u001b[1;33m\u001b[0m\u001b[1;33m\u001b[0m\u001b[0m\n\u001b[0;32m    186\u001b[0m     \u001b[1;32mdef\u001b[0m \u001b[0mmagic_deco\u001b[0m\u001b[1;33m(\u001b[0m\u001b[0marg\u001b[0m\u001b[1;33m)\u001b[0m\u001b[1;33m:\u001b[0m\u001b[1;33m\u001b[0m\u001b[1;33m\u001b[0m\u001b[0m\n\u001b[1;32m--> 187\u001b[1;33m         \u001b[0mcall\u001b[0m \u001b[1;33m=\u001b[0m \u001b[1;32mlambda\u001b[0m \u001b[0mf\u001b[0m\u001b[1;33m,\u001b[0m \u001b[1;33m*\u001b[0m\u001b[0ma\u001b[0m\u001b[1;33m,\u001b[0m \u001b[1;33m**\u001b[0m\u001b[0mk\u001b[0m\u001b[1;33m:\u001b[0m \u001b[0mf\u001b[0m\u001b[1;33m(\u001b[0m\u001b[1;33m*\u001b[0m\u001b[0ma\u001b[0m\u001b[1;33m,\u001b[0m \u001b[1;33m**\u001b[0m\u001b[0mk\u001b[0m\u001b[1;33m)\u001b[0m\u001b[1;33m\u001b[0m\u001b[1;33m\u001b[0m\u001b[0m\n\u001b[0m\u001b[0;32m    188\u001b[0m \u001b[1;33m\u001b[0m\u001b[0m\n\u001b[0;32m    189\u001b[0m         \u001b[1;32mif\u001b[0m \u001b[0mcallable\u001b[0m\u001b[1;33m(\u001b[0m\u001b[0marg\u001b[0m\u001b[1;33m)\u001b[0m\u001b[1;33m:\u001b[0m\u001b[1;33m\u001b[0m\u001b[1;33m\u001b[0m\u001b[0m\n",
      "\u001b[1;32mC:\\App\\Aconda\\lib\\site-packages\\rpy2\\ipython\\rmagic.py\u001b[0m in \u001b[0;36mR\u001b[1;34m(self, line, cell, local_ns)\u001b[0m\n\u001b[0;32m    717\u001b[0m                 \u001b[0mprint\u001b[0m\u001b[1;33m(\u001b[0m\u001b[0me\u001b[0m\u001b[1;33m.\u001b[0m\u001b[0merr\u001b[0m\u001b[1;33m)\u001b[0m\u001b[1;33m\u001b[0m\u001b[1;33m\u001b[0m\u001b[0m\n\u001b[0;32m    718\u001b[0m             \u001b[1;32mif\u001b[0m \u001b[0mtmpd\u001b[0m\u001b[1;33m:\u001b[0m\u001b[1;33m\u001b[0m\u001b[1;33m\u001b[0m\u001b[0m\n\u001b[1;32m--> 719\u001b[1;33m                 \u001b[0mrmtree\u001b[0m\u001b[1;33m(\u001b[0m\u001b[0mtmpd\u001b[0m\u001b[1;33m)\u001b[0m\u001b[1;33m\u001b[0m\u001b[1;33m\u001b[0m\u001b[0m\n\u001b[0m\u001b[0;32m    720\u001b[0m             \u001b[1;32mreturn\u001b[0m\u001b[1;33m\u001b[0m\u001b[1;33m\u001b[0m\u001b[0m\n\u001b[0;32m    721\u001b[0m         \u001b[1;32mfinally\u001b[0m\u001b[1;33m:\u001b[0m\u001b[1;33m\u001b[0m\u001b[1;33m\u001b[0m\u001b[0m\n",
      "\u001b[1;32mC:\\App\\Aconda\\lib\\shutil.py\u001b[0m in \u001b[0;36mrmtree\u001b[1;34m(path, ignore_errors, onerror)\u001b[0m\n\u001b[0;32m    511\u001b[0m             \u001b[1;31m# can't continue even if onerror hook returns\u001b[0m\u001b[1;33m\u001b[0m\u001b[1;33m\u001b[0m\u001b[1;33m\u001b[0m\u001b[0m\n\u001b[0;32m    512\u001b[0m             \u001b[1;32mreturn\u001b[0m\u001b[1;33m\u001b[0m\u001b[1;33m\u001b[0m\u001b[0m\n\u001b[1;32m--> 513\u001b[1;33m         \u001b[1;32mreturn\u001b[0m \u001b[0m_rmtree_unsafe\u001b[0m\u001b[1;33m(\u001b[0m\u001b[0mpath\u001b[0m\u001b[1;33m,\u001b[0m \u001b[0monerror\u001b[0m\u001b[1;33m)\u001b[0m\u001b[1;33m\u001b[0m\u001b[1;33m\u001b[0m\u001b[0m\n\u001b[0m\u001b[0;32m    514\u001b[0m \u001b[1;33m\u001b[0m\u001b[0m\n\u001b[0;32m    515\u001b[0m \u001b[1;31m# Allow introspection of whether or not the hardening against symlink\u001b[0m\u001b[1;33m\u001b[0m\u001b[1;33m\u001b[0m\u001b[1;33m\u001b[0m\u001b[0m\n",
      "\u001b[1;32mC:\\App\\Aconda\\lib\\shutil.py\u001b[0m in \u001b[0;36m_rmtree_unsafe\u001b[1;34m(path, onerror)\u001b[0m\n\u001b[0;32m    395\u001b[0m                 \u001b[0mos\u001b[0m\u001b[1;33m.\u001b[0m\u001b[0munlink\u001b[0m\u001b[1;33m(\u001b[0m\u001b[0mfullname\u001b[0m\u001b[1;33m)\u001b[0m\u001b[1;33m\u001b[0m\u001b[1;33m\u001b[0m\u001b[0m\n\u001b[0;32m    396\u001b[0m             \u001b[1;32mexcept\u001b[0m \u001b[0mOSError\u001b[0m\u001b[1;33m:\u001b[0m\u001b[1;33m\u001b[0m\u001b[1;33m\u001b[0m\u001b[0m\n\u001b[1;32m--> 397\u001b[1;33m                 \u001b[0monerror\u001b[0m\u001b[1;33m(\u001b[0m\u001b[0mos\u001b[0m\u001b[1;33m.\u001b[0m\u001b[0munlink\u001b[0m\u001b[1;33m,\u001b[0m \u001b[0mfullname\u001b[0m\u001b[1;33m,\u001b[0m \u001b[0msys\u001b[0m\u001b[1;33m.\u001b[0m\u001b[0mexc_info\u001b[0m\u001b[1;33m(\u001b[0m\u001b[1;33m)\u001b[0m\u001b[1;33m)\u001b[0m\u001b[1;33m\u001b[0m\u001b[1;33m\u001b[0m\u001b[0m\n\u001b[0m\u001b[0;32m    398\u001b[0m     \u001b[1;32mtry\u001b[0m\u001b[1;33m:\u001b[0m\u001b[1;33m\u001b[0m\u001b[1;33m\u001b[0m\u001b[0m\n\u001b[0;32m    399\u001b[0m         \u001b[0mos\u001b[0m\u001b[1;33m.\u001b[0m\u001b[0mrmdir\u001b[0m\u001b[1;33m(\u001b[0m\u001b[0mpath\u001b[0m\u001b[1;33m)\u001b[0m\u001b[1;33m\u001b[0m\u001b[1;33m\u001b[0m\u001b[0m\n",
      "\u001b[1;32mC:\\App\\Aconda\\lib\\shutil.py\u001b[0m in \u001b[0;36m_rmtree_unsafe\u001b[1;34m(path, onerror)\u001b[0m\n\u001b[0;32m    393\u001b[0m         \u001b[1;32melse\u001b[0m\u001b[1;33m:\u001b[0m\u001b[1;33m\u001b[0m\u001b[1;33m\u001b[0m\u001b[0m\n\u001b[0;32m    394\u001b[0m             \u001b[1;32mtry\u001b[0m\u001b[1;33m:\u001b[0m\u001b[1;33m\u001b[0m\u001b[1;33m\u001b[0m\u001b[0m\n\u001b[1;32m--> 395\u001b[1;33m                 \u001b[0mos\u001b[0m\u001b[1;33m.\u001b[0m\u001b[0munlink\u001b[0m\u001b[1;33m(\u001b[0m\u001b[0mfullname\u001b[0m\u001b[1;33m)\u001b[0m\u001b[1;33m\u001b[0m\u001b[1;33m\u001b[0m\u001b[0m\n\u001b[0m\u001b[0;32m    396\u001b[0m             \u001b[1;32mexcept\u001b[0m \u001b[0mOSError\u001b[0m\u001b[1;33m:\u001b[0m\u001b[1;33m\u001b[0m\u001b[1;33m\u001b[0m\u001b[0m\n\u001b[0;32m    397\u001b[0m                 \u001b[0monerror\u001b[0m\u001b[1;33m(\u001b[0m\u001b[0mos\u001b[0m\u001b[1;33m.\u001b[0m\u001b[0munlink\u001b[0m\u001b[1;33m,\u001b[0m \u001b[0mfullname\u001b[0m\u001b[1;33m,\u001b[0m \u001b[0msys\u001b[0m\u001b[1;33m.\u001b[0m\u001b[0mexc_info\u001b[0m\u001b[1;33m(\u001b[0m\u001b[1;33m)\u001b[0m\u001b[1;33m)\u001b[0m\u001b[1;33m\u001b[0m\u001b[1;33m\u001b[0m\u001b[0m\n",
      "\u001b[1;31mPermissionError\u001b[0m: [WinError 32] 另一个程序正在使用此文件，进程无法访问。: 'C:\\\\Users\\\\szdxl\\\\AppData\\\\Local\\\\Temp\\\\tmpapp3jrcr\\\\Rplots001.png'"
     ]
    }
   ],
   "source": [
    "%%R -i review_summaries\n",
    "ggplot(data=review_summaries,aes(x=price,y=avg.rating,label=product.id))+geom_point(aes(size = count))+scale_size_continuous(range = c(0.1,10)) + geom_text(size=3,color='red') \n"
   ]
  },
  {
   "cell_type": "code",
   "execution_count": 82,
   "metadata": {},
   "outputs": [],
   "source": [
    "%%R\n",
    "ggsave(\"reviews_summary.pdf\", width=6.5, height=4)"
   ]
  },
  {
   "cell_type": "markdown",
   "metadata": {},
   "source": [
    "**Task 10:** Write function `filter_products_by_id` that takes in a product identifier argument `idx` and returns returns the matching product information from `/data/Assignment-2/products.json`."
   ]
  },
  {
   "cell_type": "code",
   "execution_count": 44,
   "metadata": {},
   "outputs": [],
   "source": [
    "ast.literal_eval(search_list[1]).get('price')"
   ]
  },
  {
   "cell_type": "code",
   "execution_count": 45,
   "metadata": {},
   "outputs": [],
   "source": [
    "def filter_products_by_id(idx):\n",
    "    product_name=''\n",
    "    product_price=''\n",
    "    for i in search_list:\n",
    "        if idx == ast.literal_eval(i).get('asin'):\n",
    "            product_name = ast.literal_eval(i).get('title')\n",
    "            product_price = ast.literal_eval(i).get('price')\n",
    "    df=pd.DataFrame({'product.name':[product_name],'product.id':[idx],'price':[product_price]})            \n",
    "    return df"
   ]
  },
  {
   "cell_type": "code",
   "execution_count": 49,
   "metadata": {},
   "outputs": [
    {
     "data": {
      "text/html": [
       "<div>\n",
       "<style scoped>\n",
       "    .dataframe tbody tr th:only-of-type {\n",
       "        vertical-align: middle;\n",
       "    }\n",
       "\n",
       "    .dataframe tbody tr th {\n",
       "        vertical-align: top;\n",
       "    }\n",
       "\n",
       "    .dataframe thead th {\n",
       "        text-align: right;\n",
       "    }\n",
       "</style>\n",
       "<table border=\"1\" class=\"dataframe\">\n",
       "  <thead>\n",
       "    <tr style=\"text-align: right;\">\n",
       "      <th></th>\n",
       "      <th>product.name</th>\n",
       "      <th>product.id</th>\n",
       "      <th>price</th>\n",
       "    </tr>\n",
       "  </thead>\n",
       "  <tbody>\n",
       "    <tr>\n",
       "      <th>0</th>\n",
       "      <td>Livescribe 3 Smartpen for iOS7 iPhone and iPad</td>\n",
       "      <td>B00FG38L16</td>\n",
       "      <td>149.95</td>\n",
       "    </tr>\n",
       "  </tbody>\n",
       "</table>\n",
       "</div>"
      ],
      "text/plain": [
       "                                     product.name  product.id   price\n",
       "0  Livescribe 3 Smartpen for iOS7 iPhone and iPad  B00FG38L16  149.95"
      ]
     },
     "execution_count": 49,
     "metadata": {},
     "output_type": "execute_result"
    }
   ],
   "source": [
    "filter_products_by_id('B00FG38L16')\n"
   ]
  },
  {
   "cell_type": "markdown",
   "metadata": {},
   "source": [
    "**Task 11:** Using the plot form Task 9, the `filter_products_by_id` function, and the `review_summaries` data frame, identify 3 competitor products and extract the relevant information required for the assignment write-up."
   ]
  },
  {
   "cell_type": "code",
   "execution_count": null,
   "metadata": {},
   "outputs": [],
   "source": [
    "products=filter_products_by_id('B00FG38L16')\n",
    "review_summaries = filter_reviews(products).groupby('product.id')\\\n",
    "                    .agg({'review':'count','rating':'mean'})\\\n",
    "                    .rename(columns={'review':'count','rating':'avg.rating'})\\\n",
    "                    .reset_index()\n",
    "review_summaries = review_summaries.merge(products,left_on='product.id', right_on='product.id')\n",
    "review_summaries"
   ]
  },
  {
   "cell_type": "markdown",
   "metadata": {},
   "source": [
    "**Task 12:** Filter the `reviews` data frame for each of the products so that you may read the corresponding reviews.\n",
    "\n",
    "*Hint: You may wish to save the filtered sets of reviews to separate files with the `to_csv` using the argument `sep='\\t'`.  Then you can download these file to make the reviews easier to read.  You can also read the reviews right here, too!*"
   ]
  },
  {
   "cell_type": "code",
   "execution_count": 121,
   "metadata": {},
   "outputs": [
    {
     "data": {
      "text/plain": [
       "\"product.id\\trating\\treview\\nB00AW62TSS\\t1.0\\tThis does not work on my Hoveround Teknique.  So this ad must be misleading. It plugs in, but it doesn't charge the chair.  I was in the hospital when it came so we had it for over a month before I could try it.  Haven't sent it back but I am going to see if they will refund me.\\n\""
      ]
     },
     "execution_count": 121,
     "metadata": {},
     "output_type": "execute_result"
    }
   ],
   "source": [
    "filter_reviews(products).to_csv(index=False,sep='\\t')"
   ]
  },
  {
   "cell_type": "code",
   "execution_count": null,
   "metadata": {},
   "outputs": [],
   "source": []
  }
 ],
 "metadata": {
  "kernelspec": {
   "display_name": "Python 3",
   "language": "python",
   "name": "python3"
  },
  "language_info": {
   "codemirror_mode": {
    "name": "ipython",
    "version": 3
   },
   "file_extension": ".py",
   "mimetype": "text/x-python",
   "name": "python",
   "nbconvert_exporter": "python",
   "pygments_lexer": "ipython3",
   "version": "3.7.4"
  }
 },
 "nbformat": 4,
 "nbformat_minor": 4
}
